{
 "cells": [
  {
   "cell_type": "markdown",
   "metadata": {},
   "source": [
    "# Network를 쉽게 만들 때는 nn.Sequential이다.\n",
    "* 모델을 저장하고 싶다면 torch.save(network.state_dict(),\"경로이름\") <br>\n",
    "* 모델을 로드하고 싶다면 model=Net(), model.load_state_dict(torch.load(\"경로'))\n",
    "\n",
    "\n",
    "* Visdom을 해보자! 실행하려면 python -m visdom.server ! 이라고 하자\n",
    "<img src=\"./visdom.PNG\">\n",
    "\n",
    "# Basisc\n",
    "Visdom offers the following basic visualization functions:\n",
    "\n",
    "* vis.image : image\n",
    "* vis.images : list of images\n",
    "* vis.text : arbitary HTML\n",
    "* vis.audio : audio\n",
    "* vis.video : videos\n",
    "* vis.svg : SVG object\n",
    "* vis.matplot : matplotlib plot\n",
    "* vis.save : serialize state server-side\n",
    "\n",
    "# Plotting\n",
    "\n",
    "* vis.scatter : 2D or 3D scatters plots\n",
    "* vis.line : line plots\n",
    "* vis.updateTrace : update existing line/scatter plots\n",
    "* vis.stem : stem plots\n",
    "* vis.heatmap : heatmap plots\n",
    "* vis.histogram : histograms\n",
    "* vis.surf : surface plots\n",
    "* vis.coutour : quiver plots\n",
    "* vis.mesh : mesh plots"
   ]
  },
  {
   "cell_type": "code",
   "execution_count": 15,
   "metadata": {},
   "outputs": [],
   "source": [
    "import torch\n",
    "import torch.nn as nn\n",
    "import torch.nn.functional as F\n",
    "from torch.utils.data import Dataset, DataLoader\n",
    "\n",
    "import numpy as np\n",
    "import visdom"
   ]
  },
  {
   "cell_type": "code",
   "execution_count": 2,
   "metadata": {},
   "outputs": [
    {
     "name": "stderr",
     "output_type": "stream",
     "text": [
      "WARNING:root:Setting up a new session...\n"
     ]
    }
   ],
   "source": [
    "vis = visdom.Visdom()\n",
    "\n",
    "textwindow = vis.text(\"Hello Pytorch\")"
   ]
  },
  {
   "cell_type": "markdown",
   "metadata": {},
   "source": [
    "<img src=\"./visdom2.PNG\" width=\"50%\"><br>\n",
    "<B>텍스트가 서버에 뛰어졌다.<B>"
   ]
  },
  {
   "cell_type": "markdown",
   "metadata": {},
   "source": [
    "# Image 확인하자\n",
    "* transform 만들고, dataset 객체 만들고 그걸 loader에 넣자"
   ]
  },
  {
   "cell_type": "code",
   "execution_count": 34,
   "metadata": {},
   "outputs": [],
   "source": [
    "import torchvision\n",
    "import torchvision.transforms as transforms\n",
    "\n",
    "transform = transforms.Compose([transforms.ToTensor(),\n",
    "                                transforms.Normalize((0.5,), (0.5,))])\n",
    "\n",
    "trainset = torchvision.datasets.MNIST(root='./data', \n",
    "                                      train=True,\n",
    "                                      download=True,\n",
    "                                      transform=transform)\n",
    "\n",
    "testset = torchvision.datasets.MNIST(root='./data',\n",
    "                                     train=False,\n",
    "                                     download=True,\n",
    "                                     transform=transform)\n",
    "\n",
    "trainloader = DataLoader(trainset, batch_size=8, shuffle=True,  num_workers=1)\n",
    "\n",
    "testloader =  DataLoader(testset,  batch_size=8, shuffle=False, num_workers=1)\n"
   ]
  },
  {
   "cell_type": "code",
   "execution_count": 37,
   "metadata": {},
   "outputs": [],
   "source": [
    "for i,data in enumerate(trainloader):\n",
    "    img,labels = data\n",
    "    vis.image(img[0])\n",
    "    vis.images(img)\n",
    "    break\n"
   ]
  },
  {
   "cell_type": "markdown",
   "metadata": {},
   "source": [
    "<img src=\"./Visdom3.PNG\" width=\"50%\"><br>\n",
    "<B>글자 이미지가 서버에 뛰어짐.<B>"
   ]
  },
  {
   "cell_type": "markdown",
   "metadata": {},
   "source": [
    "# Plot 그리기"
   ]
  },
  {
   "cell_type": "code",
   "execution_count": 40,
   "metadata": {},
   "outputs": [],
   "source": [
    "plt =vis.line(Y=torch.randn(5)) # Y 값 만 넣어주면 x의 범위는 0~1사이다."
   ]
  },
  {
   "cell_type": "code",
   "execution_count": 42,
   "metadata": {},
   "outputs": [],
   "source": [
    "plt =vis.line(Y=torch.randn(5), X=np.array([0,1,2,3,4])) \n",
    "# 내가 원하는 값을 보여주기 위해서는 X의 값을 넣어준다. "
   ]
  },
  {
   "cell_type": "markdown",
   "metadata": {},
   "source": [
    "<img src=\"./Visdom4.PNG\" width=\"50%\"><br>\n",
    "<B>그래프도 이렇게 그려진다.<B>"
   ]
  },
  {
   "cell_type": "markdown",
   "metadata": {},
   "source": [
    "# Plot을 업데이트 하고 싶다면\n",
    "이전의 plt을 인자로 넣어준다. => win='이전플롯', update='append'"
   ]
  },
  {
   "cell_type": "code",
   "execution_count": 44,
   "metadata": {},
   "outputs": [
    {
     "data": {
      "text/plain": [
       "'window_373aa2f6befe2c'"
      ]
     },
     "execution_count": 44,
     "metadata": {},
     "output_type": "execute_result"
    }
   ],
   "source": [
    "vis.line(Y=torch.randn(1), X=np.array([5]), win=plt, update='append')"
   ]
  },
  {
   "cell_type": "markdown",
   "metadata": {},
   "source": [
    "# 계속 업데이트를 하고 싶다면?\n",
    "아래와 같이 기능을 쓰면 변화하는 로스를 확인할 수 있다.\n",
    "<img src=\"./Visdom5.PNG\" width=\"50%\"><br>"
   ]
  },
  {
   "cell_type": "code",
   "execution_count": 45,
   "metadata": {},
   "outputs": [],
   "source": [
    "for i in range(500):\n",
    "    vis.line(Y=torch.randn(1), X=np.array([i+5]), win=plt, update='append')"
   ]
  },
  {
   "cell_type": "markdown",
   "metadata": {},
   "source": [
    "# 한 plt에 두개 그리기\n",
    "### column_stack으로 쌓는다.\n",
    "* X=np.column_stack((np.arange(0,10),\n",
    "*                   np.arange(0,10),\n",
    "*                   np.arange(0,10))"
   ]
  },
  {
   "cell_type": "code",
   "execution_count": 47,
   "metadata": {},
   "outputs": [
    {
     "data": {
      "text/plain": [
       "'window_373aa3c79d73b0'"
      ]
     },
     "execution_count": 47,
     "metadata": {},
     "output_type": "execute_result"
    }
   ],
   "source": [
    "vis.line(Y=torch.randn(10,2), X=np.column_stack((np.arange(0,10), np.arange(0,10))))"
   ]
  },
  {
   "cell_type": "code",
   "execution_count": 48,
   "metadata": {},
   "outputs": [
    {
     "data": {
      "text/plain": [
       "'window_373aa3ea171aac'"
      ]
     },
     "execution_count": 48,
     "metadata": {},
     "output_type": "execute_result"
    }
   ],
   "source": [
    "vis.line(Y=torch.randn(10,3), X=np.column_stack((np.arange(0,10), np.arange(0,10), np.arange(0,10))))"
   ]
  },
  {
   "cell_type": "markdown",
   "metadata": {},
   "source": [
    "# Plot의 형태 변형 및 정보 추가\n",
    "* opts.title, opts.width, opts.height, opts.showlegend, opts.xtype, opts.xlabel\n",
    "* opts.ylabel, opts.xtick, opts.xtickmin, opts.xtickmax, opts.xticklabels, opts.xtickstep, \n",
    "* opts.xfont, opts.ytype, opts.ylabel, opts.ytick, opts.ytickmin, opts.ytickmax\n",
    "* opts.ytickstep, opts.ytickfont, opts.marginleft, opts.marginright, opts.margintop, opts.marginbottom\n",
    "* opts.fillarea, opts.colormap, opts.markers, opts.markersymbol, opts.legend\n",
    "\n",
    "## 더 자세한 내용은 최건호씨 깃허브에 있다.\n",
    "https://github.com/GunhoChoi/Pytorch-FastCampus\n",
    "\n",
    "2주차 자료에 있다."
   ]
  },
  {
   "cell_type": "markdown",
   "metadata": {},
   "source": [
    "# 방금 전 그림에다가 이름 넣고 라벨 넣기\n",
    "* 그대로 했던것 쭉하고 끝에 ,를 넣기"
   ]
  },
  {
   "cell_type": "code",
   "execution_count": 50,
   "metadata": {},
   "outputs": [
    {
     "data": {
      "text/plain": [
       "'window_373aa553344c24'"
      ]
     },
     "execution_count": 50,
     "metadata": {},
     "output_type": "execute_result"
    }
   ],
   "source": [
    "vis.line(Y=torch.randn(10,2), X=np.column_stack( (np.arange(0,10), np.arange(0,10))),\n",
    "                                               opts=dict(title='hello',showlegend=True) )"
   ]
  },
  {
   "cell_type": "code",
   "execution_count": 54,
   "metadata": {},
   "outputs": [
    {
     "data": {
      "text/plain": [
       "'window_373aa5b8625256'"
      ]
     },
     "execution_count": 54,
     "metadata": {},
     "output_type": "execute_result"
    }
   ],
   "source": [
    "vis.line(Y=torch.randn(10,2),\n",
    "         X=np.column_stack((np.arange(0,10),np.arange(0,10))),\n",
    "         opts=dict(title='hello',\n",
    "                   legend=['1번', '2번'], \n",
    "                   # legend는 그래프의 원하는 라벨의 이름을 단다.\n",
    "                   showlegend=True) )"
   ]
  },
  {
   "cell_type": "markdown",
   "metadata": {},
   "source": [
    "<img src=\"./Visdom6.PNG\" width=\"70%\"><br>"
   ]
  }
 ],
 "metadata": {
  "kernelspec": {
   "display_name": "Python 3",
   "language": "python",
   "name": "python3"
  },
  "language_info": {
   "codemirror_mode": {
    "name": "ipython",
    "version": 3
   },
   "file_extension": ".py",
   "mimetype": "text/x-python",
   "name": "python",
   "nbconvert_exporter": "python",
   "pygments_lexer": "ipython3",
   "version": "3.6.5"
  }
 },
 "nbformat": 4,
 "nbformat_minor": 2
}
