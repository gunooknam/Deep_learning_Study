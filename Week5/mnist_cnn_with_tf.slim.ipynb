{
 "cells": [
  {
   "cell_type": "markdown",
   "metadata": {},
   "source": [
    "# MNIST convolutional neural networks\n",
    "\n",
    "### A LeNet-5 like cnn MNIST classifier."
   ]
  },
  {
   "cell_type": "code",
   "execution_count": 1,
   "metadata": {},
   "outputs": [],
   "source": [
    "import time\n",
    "import numpy as np\n",
    "\n",
    "import tensorflow as tf\n",
    "import matplotlib.pyplot as plt\n",
    "%matplotlib inline\n",
    "\n",
    "######################\n",
    "#  Slim을 사용할 것  #\n",
    "slim = tf.contrib.slim\n",
    "######################\n"
   ]
  },
  {
   "cell_type": "code",
   "execution_count": 2,
   "metadata": {},
   "outputs": [],
   "source": [
    "sess_config = tf.ConfigProto(gpu_options = tf.GPUOptions(allow_growth=True))\n",
    "\n",
    "np.random.seed(777)\n",
    "tf.set_random_seed(777)"
   ]
  },
  {
   "cell_type": "code",
   "execution_count": 3,
   "metadata": {},
   "outputs": [
    {
     "name": "stdout",
     "output_type": "stream",
     "text": [
      "(60000, 28, 28)\n",
      "(60000,)\n",
      "(10000, 28, 28)\n",
      "(10000,)\n"
     ]
    }
   ],
   "source": [
    "(train_data, train_labels), (test_data, test_labels) = tf.keras.datasets.mnist.load_data()\n",
    "train_data = train_data / 255.\n",
    "train_labels = np.asarray(train_labels, dtype=np.int32)\n",
    "\n",
    "test_data = test_data / 255.\n",
    "test_labels = np.asarray(test_labels, dtype=np.int32)\n",
    "\n",
    "print(train_data.shape)\n",
    "print(train_labels.shape)\n",
    "print(test_data.shape)\n",
    "print(test_labels.shape)\n"
   ]
  },
  {
   "cell_type": "code",
   "execution_count": 4,
   "metadata": {},
   "outputs": [
    {
     "name": "stdout",
     "output_type": "stream",
     "text": [
      "label =  3\n",
      "(28, 28)\n"
     ]
    },
    {
     "data": {
      "image/png": "[encoded data removed]",
      "text/plain": [
       "<Figure size 432x288 with 1 Axes>"
      ]
     },
     "metadata": {},
     "output_type": "display_data"
    }
   ],
   "source": [
    "index = 10000\n",
    "print(\"label = \",train_labels[index])\n",
    "print(train_data[index].shape)\n",
    "plt.imshow(train_data[index] , cmap='gray')\n",
    "plt.show()"
   ]
  },
  {
   "cell_type": "code",
   "execution_count": 5,
   "metadata": {},
   "outputs": [
    {
     "name": "stdout",
     "output_type": "stream",
     "text": [
      "<BatchDataset shapes: ((?, 28, 28), (?,)), types: (tf.float64, tf.int32)>\n",
      "<BatchDataset shapes: ((?, 28, 28), (?,)), types: (tf.float64, tf.int32)>\n"
     ]
    }
   ],
   "source": [
    "batch_size = 32\n",
    "\n",
    "#for train\n",
    "train_dataset = tf.data.Dataset.from_tensor_slices((train_data, train_labels))\n",
    "train_dataset = train_dataset.shuffle(buffer_size=10000)\n",
    "train_dataset = train_dataset.batch(batch_size = batch_size)\n",
    "print(train_dataset)\n",
    "\n",
    "#for test\n",
    "test_dataset = tf.data.Dataset.from_tensor_slices((test_data, test_labels))\n",
    "test_dataset = test_dataset.shuffle(buffer_size = 10000)\n",
    "test_dataset = test_dataset.batch(batch_size = len(test_data))\n",
    "print(test_dataset)\n",
    "\n",
    "\n"
   ]
  },
  {
   "cell_type": "code",
   "execution_count": 6,
   "metadata": {},
   "outputs": [],
   "source": [
    "handle = tf.placeholder(tf.string, shape=[])\n",
    "iterator = tf.data.Iterator.from_string_handle \\\n",
    "                           (string_handle=handle, \\\n",
    "                            output_types=train_dataset.output_types, \\\n",
    "                            output_shapes=train_dataset.output_shapes) \n",
    "\n",
    "x, y = iterator.get_next()\n",
    "x = tf.cast(x, dtype = tf.float32)\n",
    "y = tf.cast(y, dtype = tf.int32)"
   ]
  },
  {
   "cell_type": "markdown",
   "metadata": {},
   "source": [
    "일반적으로 TensorFlow 그래프는 수천 개에 이르는 많은 노드를 가질 수 있고 한 눈에 쉽게 보거나 보통의 그래프 도구를 이용해 그리기에는 너무 많음...\n",
    "\n",
    "그래서 변수의 이름을 그룹으로 묶어서(name scoping) 계층화하는 방법을 사용할 수 있다.\n",
    "\n",
    "처음에는 계층의 최상단에 있는 이름들만 보여지다가 노드를 클릭해서 펼치면 볼 수 있다.\n",
    "\n",
    "여기 tf.name_scope를 사용해 \"hidden\"이라는\n",
    "name scope 아래에 세 가지 기능을 정의한 예가 있습니다\n",
    "\n",
    "```c\n",
    "import tensorflow as tf\n",
    "\n",
    "with tf.name_scope('hidden') as scope:\n",
    "  a = tf.constant(5, name='alpha')\n",
    "  W = tf.Variable(tf.random_uniform([1, 2], -1.0, 1.0), name='weights')\n",
    "  b = tf.Variable(tf.zeros([1]), name='biases')\n",
    " ```\n",
    "  \n",
    "  위의 예시 코드의 결과로 아래와 같은 세 가지 연산(op)의 이름이 나오고\n",
    "* 'hidden/alpha'\n",
    "* 'hidden/weights'\n",
    "* 'hidden/biases'\n",
    "\n",
    "와 같이 확인이 가능\n"
   ]
  },
  {
   "cell_type": "markdown",
   "metadata": {},
   "source": [
    "~~~\n",
    "slim.conv2d()\n",
    "tf.contrib.layers.conv2d(\n",
    "    inputs,\n",
    "    num_outputs,\n",
    "    kernel_size,\n",
    "    stride=1,\n",
    "    padding='SAME',\n",
    "    data_format=None,\n",
    "    rate=1,\n",
    "    activation_fn=tf.nn.relu,\n",
    "    normalizer_fn=None,\n",
    "    normalizer_params=None,\n",
    "    weights_initializer=initializers.xavier_initializer(),\n",
    "    weights_regularizer=None,\n",
    "    biases_initializer=tf.zeros_initializer(),\n",
    "    biases_regularizer=None,\n",
    "    reuse=None,\n",
    "    variables_collections=None,\n",
    "    outputs_collections=None,\n",
    "    trainable=True,\n",
    "    scope=None\n",
    ")\n",
    "~~~"
   ]
  },
  {
   "cell_type": "code",
   "execution_count": 7,
   "metadata": {},
   "outputs": [],
   "source": [
    "def cnn_model_fn(x):\n",
    "    # Mnist라서 LeNet을 쓰지만 입력 크기는 다르다.\n",
    "    with tf.name_scope('reshape'):\n",
    "        x_image = tf.reshape(x, [-1,28,28,1])\n",
    "        \n",
    "    # Convolutional Layer #1\n",
    "    # Input Tensor Shape: [batch_size, 28, 28, 1]\n",
    "    # Output Tensor Shape: [batch_size, 28, 28, 32]\n",
    "    conv1 = slim.conv2d(x_image, 32, [5,5], scope='conv1')\n",
    "    #conv1 = tf.layers.conv2d(\n",
    "    #    inputs=x_image,\n",
    "    #    filters=32,\n",
    "    #    kernel_size=[5, 5],\n",
    "    #    padding=\"same\",\n",
    "    #    activation=tf.nn.relu)\n",
    "    \n",
    "    # Pooling Layer #1\n",
    "    # Input Tensor Shape: [batch_size, 28, 28, 32]\n",
    "    # Output Tensor Shape: [batch_size, 14, 14, 32]\n",
    "    pool1 = slim.max_pool2d(conv1, [2, 2], scope='pool1')\n",
    "    #pool1 = tf.layers.max_pooling2d(inputs=conv1, pool_size=[2, 2], strides=2)\n",
    "    \n",
    "    # Convolutional Layer #2\n",
    "    # Input Tensor Shape: [batch_size, 14, 14, 32]\n",
    "    # Output Tensor Shape: [batch_size, 14, 14, 64]\n",
    "    conv2 = slim.conv2d(pool1, 64, [5,5], scope='conv2')\n",
    "    \n",
    "    # Pooling Layer #2\n",
    "    # Second max pooling layer with a 2x2 filter and stride of 2\n",
    "    # Input Tensor Shape: [batch_size, 14, 14, 64]\n",
    "    # Output Tensor Shape: [batch_size, 7, 7, 64]\n",
    "    pool2 = slim.max_pool2d(conv2,  [2,2], scope='pool2')\n",
    "    \n",
    "    # Flatten tensor into a batch of vectors\n",
    "    # Input Tensor Shape: [batch_size, 7, 7, 64]\n",
    "    # Output Tensor Shape: [batch_size, 7 * 7 * 64]\n",
    "    pool2_flat = slim.flatten(pool2, scope='flatten')\n",
    "    \n",
    "    \n",
    "    # 7 * 7 * 64 = 3136\n",
    "    # (1 x 3136 ) (3136 X 1024 )\n",
    "    # Fully connected Layer\n",
    "    # Input Tensor Shape: [batch_size, 7 * 7 * 64]\n",
    "    # Output Tensor Shape: [batch_size, 1024]\n",
    "    fc1 = slim.fully_connected(pool2_flat, 1024, scope='fc1')\n",
    "    #dense = tf.layers.dense(inputs=pool2_flat, units=1024, activation=tf.nn.relu)\n",
    "    \n",
    "    # Add dropout operation; 0.6 probability that element will be kept\n",
    "    is_training = tf.placeholder(tf.bool)\n",
    "    fc1_drop = slim.dropout(fc1, keep_prob=0.6, is_training=is_training, scope='dropout')\n",
    "    #dropout = tf.layers.dropout(inputs=dense, rate=0.4, training=is_training)\n",
    "\n",
    "    # Logits layer\n",
    "    # Input Tensor Shape: [batch_size, 1024]\n",
    "    # Output Tensor Shape: [batch_size, 10]\n",
    "    logits = slim.fully_connected(fc1_drop, 10, activation_fn=None, scope='logits')\n",
    "  \n",
    "    return logits, is_training, x_image\n",
    "    "
   ]
  },
  {
   "cell_type": "markdown",
   "metadata": {},
   "source": [
    "# Model을 빌드함"
   ]
  },
  {
   "cell_type": "code",
   "execution_count": 8,
   "metadata": {},
   "outputs": [],
   "source": [
    "logits, is_training, x_image = cnn_model_fn(x)"
   ]
  },
  {
   "cell_type": "markdown",
   "metadata": {},
   "source": [
    "# Define loss and optimizer"
   ]
  },
  {
   "cell_type": "code",
   "execution_count": 9,
   "metadata": {},
   "outputs": [],
   "source": [
    "# 여기를 직접 채워 넣으시면 됩니다.\n",
    "#y_one_hot = tf.one_hot(y, depth=10)\n",
    "#cross_entropy = tf.losses.softmax_cross_entropy(onehot_labels=y_one_hot, logits=logits)\n",
    "cross_entropy = tf.losses.sparse_softmax_cross_entropy(labels=y,\n",
    "                                                       logits=logits)\n",
    "\n",
    "train_step = tf.train.AdamOptimizer(1e-4).minimize(cross_entropy)"
   ]
  },
  {
   "cell_type": "markdown",
   "metadata": {},
   "source": [
    "# 지정 tf.summary.FileWriter"
   ]
  },
  {
   "cell_type": "code",
   "execution_count": 10,
   "metadata": {},
   "outputs": [
    {
     "name": "stdout",
     "output_type": "stream",
     "text": [
      "Saving graph to: ./graphs/train/\n"
     ]
    }
   ],
   "source": [
    "train_dir = './graphs/train/'\n",
    "print('Saving graph to: %s' % train_dir)\n",
    "# 1. writer 객체 생성\n",
    "train_writer = tf.summary.FileWriter(train_dir)\n",
    "\n",
    "# 2. 그래프를 writer에 넣는다.\n",
    "train_writer.add_graph(tf.get_default_graph())"
   ]
  },
  {
   "cell_type": "code",
   "execution_count": 11,
   "metadata": {},
   "outputs": [],
   "source": [
    "with tf.name_scope('summaries'):\n",
    "    # 3. tf.summary로  board에다가 그릴 것 넣기\n",
    "    # tf.summary.scalar => loss 같은것\n",
    "    # tf.summary.scalar => image\n",
    "    # tf.summary.histogram => matrix\n",
    "    tf.summary.scalar('loss/cross_entropy', cross_entropy)\n",
    "    tf.summary.image('images', x_image)\n",
    "    for var in tf.trainable_variables():\n",
    "        tf.summary.histogram(var.op.name, var)\n",
    "    # 4.  merge all summaries\n",
    "    # 5. 넣은 것 all summary 하기\n",
    "    summary_op = tf.summary.merge_all()"
   ]
  },
  {
   "cell_type": "markdown",
   "metadata": {},
   "source": [
    "# tf.train.Saver\n",
    "* tf.train.Saver.save(sess, save_path, global_step=None...)\n",
    "* tf.train.Saver.restore(sess, save_path)"
   ]
  },
  {
   "cell_type": "code",
   "execution_count": 12,
   "metadata": {},
   "outputs": [],
   "source": [
    "saver = tf.train.Saver()"
   ]
  },
  {
   "cell_type": "markdown",
   "metadata": {},
   "source": [
    "# tf.Session() and train"
   ]
  },
  {
   "cell_type": "code",
   "execution_count": 13,
   "metadata": {},
   "outputs": [],
   "source": [
    "# 1. writer 객체 생성\n",
    "# 2. 그래프를 writer에 넣는다.\n",
    "# 3. tf.summary로  board에다가 그릴 것 넣기\n",
    "# 4. merge all summaries\n",
    "# 5. 넣은 것 all summary 하기\n",
    "# 6. sess.run할 때 summary 넣어주기\n",
    "# 7. sess.run해서 나온 summary를 writer에 추가 , global step 지정   "
   ]
  },
  {
   "cell_type": "code",
   "execution_count": null,
   "metadata": {},
   "outputs": [
    {
     "name": "stdout",
     "output_type": "stream",
     "text": [
      "step: 0, loss: 2.291449546813965\n",
      "step: 10, loss: 2.140798568725586\n",
      "step: 20, loss: 2.091951370239258\n",
      "step: 30, loss: 1.8677887916564941\n",
      "step: 40, loss: 1.5232555866241455\n",
      "step: 50, loss: 1.3040505647659302\n",
      "step: 60, loss: 0.8147233724594116\n",
      "step: 70, loss: 0.7721024751663208\n",
      "step: 80, loss: 0.8907058238983154\n",
      "step: 90, loss: 0.7796086668968201\n",
      "step: 100, loss: 0.6180256605148315\n",
      "step: 110, loss: 0.6620495319366455\n",
      "step: 120, loss: 0.5464301109313965\n",
      "step: 130, loss: 0.4604496359825134\n",
      "step: 140, loss: 0.20648175477981567\n",
      "step: 150, loss: 0.2571292221546173\n",
      "step: 160, loss: 0.40053844451904297\n",
      "step: 170, loss: 0.8791305422782898\n",
      "step: 180, loss: 0.25652989745140076\n",
      "step: 190, loss: 0.20736101269721985\n",
      "step: 200, loss: 0.32028090953826904\n",
      "step: 210, loss: 0.3734211325645447\n",
      "step: 220, loss: 0.2915639877319336\n",
      "step: 230, loss: 0.3722003698348999\n",
      "step: 240, loss: 0.5087811350822449\n",
      "step: 250, loss: 0.4688178598880768\n",
      "step: 260, loss: 0.39242827892303467\n",
      "step: 270, loss: 0.17259420454502106\n",
      "step: 280, loss: 0.2225957065820694\n",
      "step: 290, loss: 0.34507137537002563\n",
      "step: 300, loss: 0.24693484604358673\n",
      "step: 310, loss: 0.21674662828445435\n",
      "step: 320, loss: 0.29804590344429016\n",
      "step: 330, loss: 0.2160342037677765\n",
      "step: 340, loss: 0.3036457300186157\n",
      "step: 350, loss: 0.14197573065757751\n"
     ]
    }
   ],
   "source": [
    "sess = tf.Session(config=sess_config)\n",
    "sess.run(tf.global_variables_initializer())\n",
    "\n",
    "# train_iterator\n",
    "train_iterator = train_dataset.make_initializable_iterator()\n",
    "train_handle = sess.run(train_iterator.string_handle())\n",
    "\n",
    "# Train\n",
    "max_epochs = 1\n",
    "step = 0\n",
    "\n",
    "\n",
    "for epochs in range(max_epochs):\n",
    "    # 여기를 직접 채워 넣으시면 됩니다.\n",
    "  sess.run(train_iterator.initializer)\n",
    "\n",
    "  start_time = time.time()\n",
    "  while True:\n",
    "    try:\n",
    "        # 여기를 직접 채워 넣으시면 됩니다.\n",
    "      _, loss = sess.run([train_step, cross_entropy],\n",
    "                          feed_dict={handle: train_handle,\n",
    "                                    is_training: True})\n",
    "      if step % 10 == 0:\n",
    "        print(\"step: {}, loss: {}\".format(step, loss))\n",
    "        # 6. sess.run할 때 summary 넣어주기\n",
    "        # summary를 sess.run\n",
    "        summary_str = sess.run(summary_op,\n",
    "                               feed_dict={handle: train_handle, is_training: False})\n",
    "        # 7. sess.run해서 나온 summary를 writer에 추가 , global step 지정                        \n",
    "        train_writer.add_summary(summary_str, global_step=step)\n",
    "        \n",
    "      step += 1\n",
    "\n",
    "    except tf.errors.OutOfRangeError:\n",
    "      print(\"  End of dataset\")  # ==> \"End of dataset\"\n",
    "      break\n",
    "\n",
    "  # Save a model per every one epoch in periodically\n",
    "  if epochs % 2 == 0:\n",
    "    print(\"    Save model at {} epochs\".format(epochs))\n",
    "    saver.save(sess, train_dir + 'model.ckpt', global_step=step)\n",
    "    \n",
    "  print(\"  Epochs: {} Elapsed time: {}\".format(epochs, time.time() - start_time))\n",
    "  print(\"\\n\")\n",
    "\n",
    "train_writer.close()\n",
    "print(\"training done!\")"
   ]
  },
  {
   "cell_type": "code",
   "execution_count": null,
   "metadata": {},
   "outputs": [],
   "source": [
    "test_batch_size = 16\n",
    "batch_index = np.random.choice(len(test_data), size=test_batch_size, replace=False)\n",
    "batch_xs = test_data[batch_index]\n",
    "y_pred = sess.run(logits, feed_dict={x: batch_xs, is_training: False})\n",
    "\n",
    "fig = plt.figure(figsize=(16, 10))\n",
    "for i, (px, py) in enumerate(zip(batch_xs, y_pred)):\n",
    "  p = fig.add_subplot(4, 8, i+1)\n",
    "  p.set_title(\"y_pred: {}\".format(np.argmax(py)))\n",
    "  p.imshow(px.reshape(28, 28), cmap='gray')\n",
    "  p.axis('off')\n"
   ]
  }
 ],
 "metadata": {
  "kernelspec": {
   "display_name": "Python 3",
   "language": "python",
   "name": "python3"
  },
  "language_info": {
   "codemirror_mode": {
    "name": "ipython",
    "version": 3
   },
   "file_extension": ".py",
   "mimetype": "text/x-python",
   "name": "python",
   "nbconvert_exporter": "python",
   "pygments_lexer": "ipython3",
   "version": "3.6.5"
  }
 },
 "nbformat": 4,
 "nbformat_minor": 2
}
