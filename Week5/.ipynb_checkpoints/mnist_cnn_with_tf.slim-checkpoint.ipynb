{
 "cells": [
  {
   "cell_type": "markdown",
   "metadata": {},
   "source": [
    "# MNIST convolutional neural networks\n",
    "\n",
    "### A LeNet-5 like cnn MNIST classifier."
   ]
  },
  {
   "cell_type": "code",
   "execution_count": 1,
   "metadata": {},
   "outputs": [],
   "source": [
    "import time\n",
    "import numpy as np\n",
    "\n",
    "import tensorflow as tf\n",
    "import matplotlib.pyplot as plt\n",
    "%matplotlib inline\n",
    "\n",
    "######################\n",
    "#  Slim을 사용할 것  #\n",
    "slim = tf.contrib.slim\n",
    "######################\n"
   ]
  },
  {
   "cell_type": "code",
   "execution_count": 2,
   "metadata": {},
   "outputs": [],
   "source": [
    "sess_config = tf.ConfigProto(gpu_options = tf.GPUOptions(allow_growth=True))\n",
    "\n",
    "np.random.seed(777)\n",
    "tf.set_random_seed(777)"
   ]
  },
  {
   "cell_type": "code",
   "execution_count": 3,
   "metadata": {},
   "outputs": [
    {
     "name": "stdout",
     "output_type": "stream",
     "text": [
      "(60000, 28, 28)\n",
      "(60000,)\n",
      "(10000, 28, 28)\n",
      "(10000,)\n"
     ]
    }
   ],
   "source": [
    "(train_data, train_labels), (test_data, test_labels) = tf.keras.datasets.mnist.load_data()\n",
    "train_data = train_data / 255.\n",
    "train_labels = np.asarray(train_labels, dtype=np.int32)\n",
    "\n",
    "test_data = test_data / 255.\n",
    "test_labels = np.asarray(test_labels, dtype=np.int32)\n",
    "\n",
    "print(train_data.shape)\n",
    "print(train_labels.shape)\n",
    "print(test_data.shape)\n",
    "print(test_labels.shape)\n"
   ]
  },
  {
   "cell_type": "code",
   "execution_count": 4,
   "metadata": {},
   "outputs": [
    {
     "name": "stdout",
     "output_type": "stream",
     "text": [
      "label =  3\n",
      "(28, 28)\n"
     ]
    },
    {
     "data": {
      "image/png": "[encoded data removed]",
      "text/plain": [
       "<Figure size 432x288 with 1 Axes>"
      ]
     },
     "metadata": {},
     "output_type": "display_data"
    }
   ],
   "source": [
    "index = 10000\n",
    "print(\"label = \",train_labels[index])\n",
    "print(train_data[index].shape)\n",
    "plt.imshow(train_data[index] , cmap='gray')\n",
    "plt.show()"
   ]
  },
  {
   "cell_type": "code",
   "execution_count": 5,
   "metadata": {},
   "outputs": [
    {
     "name": "stdout",
     "output_type": "stream",
     "text": [
      "<BatchDataset shapes: ((?, 28, 28), (?,)), types: (tf.float64, tf.int32)>\n",
      "<BatchDataset shapes: ((?, 28, 28), (?,)), types: (tf.float64, tf.int32)>\n"
     ]
    }
   ],
   "source": [
    "batch_size = 32\n",
    "\n",
    "#for train\n",
    "train_dataset = tf.data.Dataset.from_tensor_slices((train_data, train_labels))\n",
    "train_dataset = train_dataset.shuffle(buffer_size=10000)\n",
    "train_dataset = train_dataset.batch(batch_size = batch_size)\n",
    "print(train_dataset)\n",
    "\n",
    "#for test\n",
    "test_dataset = tf.data.Dataset.from_tensor_slices((test_data, test_labels))\n",
    "test_dataset = test_dataset.shuffle(buffer_size = 10000)\n",
    "test_dataset = test_dataset.batch(batch_size = len(test_data))\n",
    "print(test_dataset)\n",
    "\n",
    "\n"
   ]
  },
  {
   "cell_type": "code",
   "execution_count": 6,
   "metadata": {},
   "outputs": [],
   "source": [
    "handle = tf.placeholder(tf.string, shape=[])\n",
    "iterator = tf.data.Iterator.from_string_handle \\\n",
    "                           (string_handle=handle, \\\n",
    "                            output_types=train_dataset.output_types, \\\n",
    "                            output_shapes=train_dataset.output_shapes) \n",
    "\n",
    "x, y = iterator.get_next()\n",
    "x = tf.cast(x, dtype = tf.float32)\n",
    "y = tf.cast(y, dtype = tf.int32)"
   ]
  },
  {
   "cell_type": "markdown",
   "metadata": {},
   "source": [
    "일반적으로 TensorFlow 그래프는 수천 개에 이르는 많은 노드를 가질 수 있고 한 눈에 쉽게 보거나 보통의 그래프 도구를 이용해 그리기에는 너무 많음...\n",
    "\n",
    "그래서 변수의 이름을 그룹으로 묶어서(name scoping) 계층화하는 방법을 사용할 수 있다.\n",
    "\n",
    "처음에는 계층의 최상단에 있는 이름들만 보여지다가 노드를 클릭해서 펼치면 볼 수 있다.\n",
    "\n",
    "여기 tf.name_scope를 사용해 \"hidden\"이라는\n",
    "name scope 아래에 세 가지 기능을 정의한 예가 있습니다\n",
    "\n",
    "```c\n",
    "import tensorflow as tf\n",
    "\n",
    "with tf.name_scope('hidden') as scope:\n",
    "  a = tf.constant(5, name='alpha')\n",
    "  W = tf.Variable(tf.random_uniform([1, 2], -1.0, 1.0), name='weights')\n",
    "  b = tf.Variable(tf.zeros([1]), name='biases')\n",
    " ```\n",
    "  \n",
    "  위의 예시 코드의 결과로 아래와 같은 세 가지 연산(op)의 이름이 나오고\n",
    "* 'hidden/alpha'\n",
    "* 'hidden/weights'\n",
    "* 'hidden/biases'\n",
    "\n",
    "와 같이 확인이 가능\n"
   ]
  },
  {
   "cell_type": "markdown",
   "metadata": {},
   "source": [
    "~~~\n",
    "slim.conv2d()\n",
    "tf.contrib.layers.conv2d(\n",
    "    inputs,\n",
    "    num_outputs,\n",
    "    kernel_size,\n",
    "    stride=1,\n",
    "    padding='SAME',\n",
    "    data_format=None,\n",
    "    rate=1,\n",
    "    activation_fn=tf.nn.relu,\n",
    "    normalizer_fn=None,\n",
    "    normalizer_params=None,\n",
    "    weights_initializer=initializers.xavier_initializer(),\n",
    "    weights_regularizer=None,\n",
    "    biases_initializer=tf.zeros_initializer(),\n",
    "    biases_regularizer=None,\n",
    "    reuse=None,\n",
    "    variables_collections=None,\n",
    "    outputs_collections=None,\n",
    "    trainable=True,\n",
    "    scope=None\n",
    ")\n",
    "~~~"
   ]
  },
  {
   "cell_type": "code",
   "execution_count": 7,
   "metadata": {},
   "outputs": [],
   "source": [
    "def cnn_model_fn(x):\n",
    "    # Mnist라서 LeNet을 쓰지만 입력 크기는 다르다.\n",
    "    with tf.name_scope('reshape'):\n",
    "        x_image = tf.reshape(x, [-1,28,28,1])\n",
    "        \n",
    "    # Convolutional Layer #1\n",
    "    # Input Tensor Shape: [batch_size, 28, 28, 1]\n",
    "    # Output Tensor Shape: [batch_size, 28, 28, 32]\n",
    "    conv1 = slim.conv2d(x_image, 32, [5,5], scope='conv1')\n",
    "    #conv1 = tf.layers.conv2d(\n",
    "    #    inputs=x_image,\n",
    "    #    filters=32,\n",
    "    #    kernel_size=[5, 5],\n",
    "    #    padding=\"same\",\n",
    "    #    activation=tf.nn.relu)\n",
    "    \n",
    "    # Pooling Layer #1\n",
    "    # Input Tensor Shape: [batch_size, 28, 28, 32]\n",
    "    # Output Tensor Shape: [batch_size, 14, 14, 32]\n",
    "    pool1 = slim.max_pool2d(conv1, [2, 2], scope='pool1')\n",
    "    #pool1 = tf.layers.max_pooling2d(inputs=conv1, pool_size=[2, 2], strides=2)\n",
    "    \n",
    "    # Convolutional Layer #2\n",
    "    # Input Tensor Shape: [batch_size, 14, 14, 32]\n",
    "    # Output Tensor Shape: [batch_size, 14, 14, 64]\n",
    "    conv2 = slim.conv2d(pool1, 64, [5,5], scope='conv2')\n",
    "    \n",
    "    # Pooling Layer #2\n",
    "    # Second max pooling layer with a 2x2 filter and stride of 2\n",
    "    # Input Tensor Shape: [batch_size, 14, 14, 64]\n",
    "    # Output Tensor Shape: [batch_size, 7, 7, 64]\n",
    "    pool2 = slim.max_pool2d(conv2,  [2,2], scope='pool2')\n",
    "    \n",
    "    # Flatten tensor into a batch of vectors\n",
    "    # Input Tensor Shape: [batch_size, 7, 7, 64]\n",
    "    # Output Tensor Shape: [batch_size, 7 * 7 * 64]\n",
    "    pool2_flat = slim.flatten(pool2, scope='flatten')\n",
    "    \n",
    "    \n",
    "    # 7 * 7 * 64 = 3136\n",
    "    # (1 x 3136 ) (3136 X 1024 )\n",
    "    # Fully connected Layer\n",
    "    # Input Tensor Shape: [batch_size, 7 * 7 * 64]\n",
    "    # Output Tensor Shape: [batch_size, 1024]\n",
    "    fc1 = slim.fully_connected(pool2_flat, 1024, scope='fc1')\n",
    "    #dense = tf.layers.dense(inputs=pool2_flat, units=1024, activation=tf.nn.relu)\n",
    "    \n",
    "    # Add dropout operation; 0.6 probability that element will be kept\n",
    "    is_training = tf.placeholder(tf.bool)\n",
    "    fc1_drop = slim.dropout(fc1, keep_prob=0.6, is_training=is_training, scope='dropout')\n",
    "    #dropout = tf.layers.dropout(inputs=dense, rate=0.4, training=is_training)\n",
    "\n",
    "    # Logits layer\n",
    "    # Input Tensor Shape: [batch_size, 1024]\n",
    "    # Output Tensor Shape: [batch_size, 10]\n",
    "    logits = slim.fully_connected(fc1_drop, 10, activation_fn=None, scope='logits')\n",
    "  \n",
    "    return logits, is_training, x_image\n",
    "    "
   ]
  },
  {
   "cell_type": "markdown",
   "metadata": {},
   "source": [
    "# Model을 빌드함"
   ]
  },
  {
   "cell_type": "code",
   "execution_count": 8,
   "metadata": {},
   "outputs": [],
   "source": [
    "logits, is_training, x_image = cnn_model_fn(x)"
   ]
  },
  {
   "cell_type": "markdown",
   "metadata": {},
   "source": [
    "# Define loss and optimizer"
   ]
  },
  {
   "cell_type": "code",
   "execution_count": 9,
   "metadata": {},
   "outputs": [],
   "source": [
    "# 여기를 직접 채워 넣으시면 됩니다.\n",
    "#y_one_hot = tf.one_hot(y, depth=10)\n",
    "#cross_entropy = tf.losses.softmax_cross_entropy(onehot_labels=y_one_hot, logits=logits)\n",
    "cross_entropy = tf.losses.sparse_softmax_cross_entropy(labels=y,\n",
    "                                                       logits=logits)\n",
    "\n",
    "train_step = tf.train.AdamOptimizer(1e-4).minimize(cross_entropy)"
   ]
  },
  {
   "cell_type": "markdown",
   "metadata": {},
   "source": [
    "# 지정 tf.summary.FileWriter"
   ]
  },
  {
   "cell_type": "code",
   "execution_count": 10,
   "metadata": {},
   "outputs": [
    {
     "name": "stdout",
     "output_type": "stream",
     "text": [
      "Saving graph to: ./graphs/train/\n"
     ]
    }
   ],
   "source": [
    "train_dir = './graphs/train/'\n",
    "print('Saving graph to: %s' % train_dir)\n",
    "# 1. writer 객체 생성\n",
    "train_writer = tf.summary.FileWriter(train_dir)\n",
    "\n",
    "# 2. 그래프를 writer에 넣는다.\n",
    "train_writer.add_graph(tf.get_default_graph())"
   ]
  },
  {
   "cell_type": "code",
   "execution_count": 11,
   "metadata": {},
   "outputs": [],
   "source": [
    "with tf.name_scope('summaries'):\n",
    "    # 3. tf.summary로  board에다가 그릴 것 넣기\n",
    "    # tf.summary.scalar => loss 같은것\n",
    "    # tf.summary.scalar => image\n",
    "    # tf.summary.histogram => matrix\n",
    "    tf.summary.scalar('loss/cross_entropy', cross_entropy)\n",
    "    tf.summary.image('images', x_image)\n",
    "    for var in tf.trainable_variables():\n",
    "        tf.summary.histogram(var.op.name, var)\n",
    "    # 4.  merge all summaries\n",
    "    # 5. 넣은 것 all summary 하기\n",
    "    summary_op = tf.summary.merge_all()"
   ]
  },
  {
   "cell_type": "markdown",
   "metadata": {},
   "source": [
    "# tf.train.Saver\n",
    "* tf.train.Saver.save(sess, save_path, global_step=None...)\n",
    "* tf.train.Saver.restore(sess, save_path)"
   ]
  },
  {
   "cell_type": "code",
   "execution_count": 12,
   "metadata": {},
   "outputs": [],
   "source": [
    "saver = tf.train.Saver()"
   ]
  },
  {
   "cell_type": "markdown",
   "metadata": {},
   "source": [
    "# tf.Session() and train"
   ]
  },
  {
   "cell_type": "code",
   "execution_count": 13,
   "metadata": {},
   "outputs": [],
   "source": [
    "# 1. writer 객체 생성\n",
    "# 2. 그래프를 writer에 넣는다.\n",
    "# 3. tf.summary로  board에다가 그릴 것 넣기\n",
    "# 4. merge all summaries\n",
    "# 5. 넣은 것 all summary 하기\n",
    "# 6. sess.run할 때 summary 넣어주기\n",
    "# 7. sess.run해서 나온 summary를 writer에 추가 , global step 지정   "
   ]
  },
  {
   "cell_type": "code",
   "execution_count": 14,
   "metadata": {},
   "outputs": [
    {
     "name": "stdout",
     "output_type": "stream",
     "text": [
      "step: 0, loss: 2.2914607524871826\n",
      "step: 10, loss: 2.140805721282959\n",
      "step: 20, loss: 2.092358350753784\n",
      "step: 30, loss: 1.8703644275665283\n",
      "step: 40, loss: 1.5230261087417603\n",
      "step: 50, loss: 1.3026328086853027\n",
      "step: 60, loss: 0.818462610244751\n",
      "step: 70, loss: 0.7694293856620789\n",
      "step: 80, loss: 0.8894094824790955\n",
      "step: 90, loss: 0.7722012400627136\n",
      "step: 100, loss: 0.6157441139221191\n",
      "step: 110, loss: 0.6564041376113892\n",
      "step: 120, loss: 0.5480144023895264\n",
      "step: 130, loss: 0.457241415977478\n",
      "step: 140, loss: 0.21014150977134705\n",
      "step: 150, loss: 0.2581077516078949\n",
      "step: 160, loss: 0.3986942768096924\n",
      "step: 170, loss: 0.8916116952896118\n",
      "step: 180, loss: 0.2569584250450134\n",
      "step: 190, loss: 0.20946142077445984\n",
      "step: 200, loss: 0.3266224265098572\n",
      "step: 210, loss: 0.37534958124160767\n",
      "step: 220, loss: 0.29293346405029297\n",
      "step: 230, loss: 0.3710097372531891\n",
      "step: 240, loss: 0.5076208710670471\n",
      "step: 250, loss: 0.4717215895652771\n",
      "step: 260, loss: 0.3813413679599762\n",
      "step: 270, loss: 0.16001734137535095\n",
      "step: 280, loss: 0.22198054194450378\n",
      "step: 290, loss: 0.337072491645813\n",
      "step: 300, loss: 0.24274992942810059\n",
      "step: 310, loss: 0.21628037095069885\n",
      "step: 320, loss: 0.29842668771743774\n",
      "step: 330, loss: 0.20962637662887573\n",
      "step: 340, loss: 0.2937139868736267\n",
      "step: 350, loss: 0.1503751277923584\n",
      "step: 360, loss: 0.39118272066116333\n",
      "step: 370, loss: 0.30229490995407104\n",
      "step: 380, loss: 0.34714990854263306\n",
      "step: 390, loss: 0.3158700168132782\n",
      "step: 400, loss: 0.18471744656562805\n",
      "step: 410, loss: 0.43088555335998535\n",
      "step: 420, loss: 0.21059879660606384\n",
      "step: 430, loss: 0.1249799132347107\n",
      "step: 440, loss: 0.41745108366012573\n",
      "step: 450, loss: 0.4122619330883026\n",
      "step: 460, loss: 0.20073844492435455\n",
      "step: 470, loss: 0.3924216032028198\n",
      "step: 480, loss: 0.28912684321403503\n",
      "step: 490, loss: 0.2958293557167053\n",
      "step: 500, loss: 0.47237592935562134\n",
      "step: 510, loss: 0.12776979804039001\n",
      "step: 520, loss: 0.5262132287025452\n",
      "step: 530, loss: 0.4368712902069092\n",
      "step: 540, loss: 0.396587073802948\n",
      "step: 550, loss: 0.26246318221092224\n",
      "step: 560, loss: 0.12738922238349915\n",
      "step: 570, loss: 0.12211686372756958\n",
      "step: 580, loss: 0.2451176643371582\n",
      "step: 590, loss: 0.31063586473464966\n",
      "step: 600, loss: 0.05473017692565918\n",
      "step: 610, loss: 0.1595061719417572\n",
      "step: 620, loss: 0.16165000200271606\n",
      "step: 630, loss: 0.08442537486553192\n",
      "step: 640, loss: 0.18161709606647491\n",
      "step: 650, loss: 0.1762571632862091\n",
      "step: 660, loss: 0.21322712302207947\n",
      "step: 670, loss: 0.28101128339767456\n",
      "step: 680, loss: 0.41399598121643066\n",
      "step: 690, loss: 0.1088523343205452\n",
      "step: 700, loss: 0.0766555666923523\n",
      "step: 710, loss: 0.2129618227481842\n",
      "step: 720, loss: 0.22079169750213623\n",
      "step: 730, loss: 0.15836215019226074\n",
      "step: 740, loss: 0.23522579669952393\n",
      "step: 750, loss: 0.16971355676651\n",
      "step: 760, loss: 0.1263301968574524\n",
      "step: 770, loss: 0.1144406795501709\n",
      "step: 780, loss: 0.16389794647693634\n",
      "step: 790, loss: 0.4962937831878662\n",
      "step: 800, loss: 0.036935485899448395\n",
      "step: 810, loss: 0.09490939974784851\n",
      "step: 820, loss: 0.07906138896942139\n",
      "step: 830, loss: 0.0812615305185318\n",
      "step: 840, loss: 0.3706091642379761\n",
      "step: 850, loss: 0.2028660774230957\n",
      "step: 860, loss: 0.12587970495224\n",
      "step: 870, loss: 0.22202298045158386\n",
      "step: 880, loss: 0.0526052862405777\n",
      "step: 890, loss: 0.05328848958015442\n",
      "step: 900, loss: 0.1400364488363266\n",
      "step: 910, loss: 0.11076666414737701\n",
      "step: 920, loss: 0.11377081274986267\n",
      "step: 930, loss: 0.267996221780777\n",
      "step: 940, loss: 0.2904264032840729\n",
      "step: 950, loss: 0.1805863380432129\n",
      "step: 960, loss: 0.25929367542266846\n",
      "step: 970, loss: 0.2174445241689682\n",
      "step: 980, loss: 0.02082786336541176\n",
      "step: 990, loss: 0.1721964329481125\n",
      "step: 1000, loss: 0.027153661474585533\n",
      "step: 1010, loss: 0.056279756128787994\n",
      "step: 1020, loss: 0.09256355464458466\n",
      "step: 1030, loss: 0.46607932448387146\n",
      "step: 1040, loss: 0.026759780943393707\n",
      "step: 1050, loss: 0.17985308170318604\n",
      "step: 1060, loss: 0.030311446636915207\n",
      "step: 1070, loss: 0.07498068362474442\n",
      "step: 1080, loss: 0.09491660445928574\n",
      "step: 1090, loss: 0.01257722545415163\n",
      "step: 1100, loss: 0.042588651180267334\n",
      "step: 1110, loss: 0.15706956386566162\n",
      "step: 1120, loss: 0.03789790719747543\n",
      "step: 1130, loss: 0.06410147249698639\n",
      "step: 1140, loss: 0.0409960076212883\n",
      "step: 1150, loss: 0.16087934374809265\n",
      "step: 1160, loss: 0.06377434730529785\n",
      "step: 1170, loss: 0.06830774247646332\n",
      "step: 1180, loss: 0.47839802503585815\n",
      "step: 1190, loss: 0.15797005593776703\n",
      "step: 1200, loss: 0.07257166504859924\n",
      "step: 1210, loss: 0.109361931681633\n",
      "step: 1220, loss: 0.05175288766622543\n",
      "step: 1230, loss: 0.2414991706609726\n",
      "step: 1240, loss: 0.22253969311714172\n",
      "step: 1250, loss: 0.04589756578207016\n",
      "step: 1260, loss: 0.27082374691963196\n",
      "step: 1270, loss: 0.2173783779144287\n",
      "step: 1280, loss: 0.2871294915676117\n",
      "step: 1290, loss: 0.11892589926719666\n",
      "step: 1300, loss: 0.38953348994255066\n",
      "step: 1310, loss: 0.06556940823793411\n",
      "step: 1320, loss: 0.35596519708633423\n",
      "step: 1330, loss: 0.19217737019062042\n",
      "step: 1340, loss: 0.10447906702756882\n",
      "step: 1350, loss: 0.09085718542337418\n",
      "step: 1360, loss: 0.0470811128616333\n",
      "step: 1370, loss: 0.12534810602664948\n",
      "step: 1380, loss: 0.37624090909957886\n",
      "step: 1390, loss: 0.14030848443508148\n",
      "step: 1400, loss: 0.06553788483142853\n",
      "step: 1410, loss: 0.03675273433327675\n",
      "step: 1420, loss: 0.04582131654024124\n",
      "step: 1430, loss: 0.21125783026218414\n",
      "step: 1440, loss: 0.042263392359018326\n",
      "step: 1450, loss: 0.015849195420742035\n",
      "step: 1460, loss: 0.0882464200258255\n",
      "step: 1470, loss: 0.028956854715943336\n",
      "step: 1480, loss: 0.03805214539170265\n",
      "step: 1490, loss: 0.05273345112800598\n",
      "step: 1500, loss: 0.04489629343152046\n",
      "step: 1510, loss: 0.03853204473853111\n",
      "step: 1520, loss: 0.0823679268360138\n",
      "step: 1530, loss: 0.15918497741222382\n",
      "step: 1540, loss: 0.04849434643983841\n",
      "step: 1550, loss: 0.026538845151662827\n",
      "step: 1560, loss: 0.15516433119773865\n",
      "step: 1570, loss: 0.22800098359584808\n",
      "step: 1580, loss: 0.04179166257381439\n",
      "step: 1590, loss: 0.11069972813129425\n",
      "step: 1600, loss: 0.020648520439863205\n",
      "step: 1610, loss: 0.010815497487783432\n",
      "step: 1620, loss: 0.07678206264972687\n",
      "step: 1630, loss: 0.06250502169132233\n",
      "step: 1640, loss: 0.04079185053706169\n",
      "step: 1650, loss: 0.029279399663209915\n",
      "step: 1660, loss: 0.12480686604976654\n",
      "step: 1670, loss: 0.022584043443202972\n",
      "step: 1680, loss: 0.28943943977355957\n",
      "step: 1690, loss: 0.039327897131443024\n",
      "step: 1700, loss: 0.09250795841217041\n",
      "  End of dataset\n",
      "    Save model at 0 epochs\n",
      "  Epochs: 0 Elapsed time: 37.680745124816895\n",
      "\n",
      "\n",
      "training done!\n"
     ]
    }
   ],
   "source": [
    "sess = tf.Session(config=sess_config)\n",
    "sess.run(tf.global_variables_initializer())\n",
    "\n",
    "# train_iterator\n",
    "train_iterator = train_dataset.make_initializable_iterator()\n",
    "train_handle = sess.run(train_iterator.string_handle())\n",
    "\n",
    "# Train\n",
    "max_epochs = 1\n",
    "step = 0\n",
    "\n",
    "\n",
    "for epochs in range(max_epochs):\n",
    "    # 여기를 직접 채워 넣으시면 됩니다.\n",
    "  sess.run(train_iterator.initializer)\n",
    "\n",
    "  start_time = time.time()\n",
    "  while True:\n",
    "    try:\n",
    "        # 여기를 직접 채워 넣으시면 됩니다.\n",
    "      _, loss = sess.run([train_step, cross_entropy],\n",
    "                          feed_dict={handle: train_handle,\n",
    "                                    is_training: True})\n",
    "      if step % 10 == 0:\n",
    "        print(\"step: {}, loss: {}\".format(step, loss))\n",
    "        # 6. sess.run할 때 summary 넣어주기\n",
    "        # summary를 sess.run\n",
    "        summary_str = sess.run(summary_op,\n",
    "                               feed_dict={handle: train_handle, is_training: False})\n",
    "        # 7. sess.run해서 나온 summary를 writer에 추가 , global step 지정                        \n",
    "        train_writer.add_summary(summary_str, global_step=step)\n",
    "        \n",
    "      step += 1\n",
    "\n",
    "    except tf.errors.OutOfRangeError:\n",
    "      print(\"  End of dataset\")  # ==> \"End of dataset\"\n",
    "      break\n",
    "\n",
    "  # Save a model per every one epoch in periodically\n",
    "  if epochs % 2 == 0:\n",
    "    print(\"    Save model at {} epochs\".format(epochs))\n",
    "    saver.save(sess, train_dir + 'model.ckpt', global_step=step)\n",
    "    \n",
    "  print(\"  Epochs: {} Elapsed time: {}\".format(epochs, time.time() - start_time))\n",
    "  print(\"\\n\")\n",
    "\n",
    "train_writer.close()\n",
    "print(\"training done!\")"
   ]
  },
  {
   "cell_type": "code",
   "execution_count": 15,
   "metadata": {},
   "outputs": [
    {
     "data": {
      "image/png": "[encoded data removed]",
      "text/plain": [
       "<Figure size 1152x720 with 16 Axes>"
      ]
     },
     "metadata": {},
     "output_type": "display_data"
    }
   ],
   "source": [
    "test_batch_size = 16\n",
    "batch_index = np.random.choice(len(test_data), size=test_batch_size, replace=False)\n",
    "batch_xs = test_data[batch_index]\n",
    "y_pred = sess.run(logits, feed_dict={x: batch_xs, is_training: False})\n",
    "\n",
    "fig = plt.figure(figsize=(16, 10))\n",
    "for i, (px, py) in enumerate(zip(batch_xs, y_pred)):\n",
    "  p = fig.add_subplot(4, 8, i+1)\n",
    "  p.set_title(\"y_pred: {}\".format(np.argmax(py)))\n",
    "  p.imshow(px.reshape(28, 28), cmap='gray')\n",
    "  p.axis('off')\n"
   ]
  }
 ],
 "metadata": {
  "kernelspec": {
   "display_name": "Python 3",
   "language": "python",
   "name": "python3"
  },
  "language_info": {
   "codemirror_mode": {
    "name": "ipython",
    "version": 3
   },
   "file_extension": ".py",
   "mimetype": "text/x-python",
   "name": "python",
   "nbconvert_exporter": "python",
   "pygments_lexer": "ipython3",
   "version": "3.6.5"
  }
 },
 "nbformat": 4,
 "nbformat_minor": 2
}
