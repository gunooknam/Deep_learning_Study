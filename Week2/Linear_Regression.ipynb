{
 "cells": [
  {
   "cell_type": "code",
   "execution_count": 1,
   "metadata": {},
   "outputs": [],
   "source": [
    "import numpy as np\n",
    "import matplotlib.pyplot as plt\n",
    "import csv\n",
    "\n",
    "X = [] # 배열 형태로 선언, X는 attribute\n",
    "Y = [] # 배열 형태로 선언, Y는 label"
   ]
  },
  {
   "cell_type": "code",
   "execution_count": 2,
   "metadata": {},
   "outputs": [],
   "source": [
    "# dataset open\n",
    "f= open(\"X.csv\", 'r');\n",
    "csvReader = csv.reader(f)\n",
    "\n",
    "# X.csv 는 첫 번째 column을 1로 채움 bias term을 위한  \n",
    "for row in csvReader:\n",
    "    X.append(row) #csvReader 로 데이터를 2차원 배열형태로 받고 row에 한행씩 저장된다.\n",
    "\n",
    "f = open(\"Y.csv\",\"r\")\n",
    "csvReader = csv.reader(f)\n",
    "for row in csvReader:\n",
    "    Y.append(row) # 마찬가지로 row 형태로 Y 배열에 한 row씩 저장\n",
    "    \n",
    "f.close()"
   ]
  },
  {
   "cell_type": "code",
   "execution_count": 3,
   "metadata": {},
   "outputs": [
    {
     "name": "stdout",
     "output_type": "stream",
     "text": [
      "[[1.      0.00632]\n",
      " [1.      0.02731]\n",
      " [1.      0.02729]\n",
      " ...\n",
      " [1.      0.06076]\n",
      " [1.      0.10959]\n",
      " [1.      0.04741]]\n",
      "(506, 2)\n"
     ]
    }
   ],
   "source": [
    "X = np.array(X, dtype='float64')\n",
    "Y = np.array(Y, dtype='float64')\n",
    "\n",
    "# xTemp : 13개의 Attribute 중 첫 번째 Attribute만 Feature variable로 활용\n",
    "# xTemp[i] = [1, x(i)]\n",
    "\n",
    "xTemp = X[:, 0:2] #0 column, 1 column을 test 삼아서 저장 \n",
    "print(xTemp)\n",
    "print(xTemp.shape)"
   ]
  },
  {
   "cell_type": "code",
   "execution_count": 4,
   "metadata": {},
   "outputs": [],
   "source": [
    "# theta : 오차의 제곱을 최소화하는 매개변수의 값\n",
    "# Y_est(xTemp * theta) : 위에서 구해진 theta로 도출된 예측치\n",
    "# theta=inv(X'X)X'Y => dot \n",
    "theta = np.dot(np.dot(np.linalg.inv( np.dot(np.transpose(xTemp), xTemp)),np.transpose(xTemp)), Y)\n",
    "Y_est = np.dot(xTemp, theta) #새로 구해진 theta와 첫 번째 attribute에 대한 예측치 \n",
    "\n",
    "# numpy.linalg.lstsq(one, two, rcond=-1)\n",
    "# minimizes the Euclidean 2-norm || two - (w*one + b) ||^2.\n",
    "# numpy에 있는 lstsq 함수는 least square에 대한 solution 구해준다.\n",
    "# m0, c0 = argmin |Y - (m0 * xTemp + c0)|^2 와 같이 처리된다.\n",
    "# return 값으로 배열을 주는데 0번째는 argmin 값 줌\n",
    "w0, b0 = np.linalg.lstsq(xTemp, Y,    rcond=None)[0]\n",
    "w1, b1 = np.linalg.lstsq(xTemp, Y_est,rcond=None)[0] \n",
    "# numpy 에서는 lstsq가 linear regression 역할 함"
   ]
  },
  {
   "cell_type": "code",
   "execution_count": 5,
   "metadata": {},
   "outputs": [
    {
     "data": {
      "image/png": "[encoded data removed]",
      "text/plain": [
       "<Figure size 1224x360 with 1 Axes>"
      ]
     },
     "metadata": {},
     "output_type": "display_data"
    }
   ],
   "source": [
    "plt.figure(1, figsize = (17, 5)) # width, height\n",
    "\n",
    "# 그래프 1\n",
    "ax1 = plt.subplot(1, 3, 1)\n",
    "plt.plot(X[:, 1], Y, 'ro', markeredgecolor = 'none') #ro => red circle\n",
    "plt.plot(X[:, 1], w0+b0*X[:, 1], 'r-')\n",
    "plt.plot(X[:, 1], Y_est, 'bo', markeredgecolor = 'none') # bo => blue circle\n",
    "plt.plot(X[:, 1], w1+b1*X[:, 1], 'b-')\n",
    "plt.xlabel('X', fontsize = 14)\n",
    "plt.ylabel('Y', fontsize = 14)\n",
    "plt.show()\n",
    "# 빨간색 점은 실제 데이터의 분포\n",
    "# 파란색 점은 추정한 데이터의 분포\n",
    "# 직선은 lstsq로 구한 직선"
   ]
  },
  {
   "cell_type": "code",
   "execution_count": 6,
   "metadata": {},
   "outputs": [
    {
     "name": "stdout",
     "output_type": "stream",
     "text": [
      "(506, 5)\n"
     ]
    }
   ],
   "source": [
    "# 아래의 예제는 x의 n차항으로 이루어진 다항회귀(Polynomial Regression) 모형입니다.\n",
    "# 즉 n차 항으로 더 모델을 complexity 하게 만들어 준다.\n",
    "\n",
    "n=4 \n",
    "###############################################\n",
    "#  TODO : n 의 변회에 따른 그래프 모양 고찰   #                     \n",
    "###############################################\n",
    "\n",
    "# newX: newX[i] = [1, x(i), x(i)^2, x(i)^3, x(i)^4, x(i)^5, x(i)^6, x(i)^7, ... x(i)^n]\n",
    "# newTheta: 오차의 제곱을 최소화하는 매개변수 값\n",
    "# newY_est(= newX * newθ): 위에서 구해진 newTehta로 도출된 예측치\n",
    "\n",
    "newX = np.zeros((X.shape[0], n+1))\n",
    "\n",
    "print(newX.shape)\n",
    "newX[:, 0:2] = X[:, 0:2]\n",
    "\n",
    "# X의 제곱항을 만들기 위하여 아래의 For-Loop를 활용함\n",
    "for i in range(2, n+1):\n",
    "    newX[:, i] = newX[:, 1] * newX[:, i-1]\n",
    "    \n",
    "newTheta = np.dot(np.dot(np.linalg.inv(np.dot(np.transpose(newX), newX)), np.transpose(newX)), Y)\n",
    "newY_est = np.dot(newX, newTheta)"
   ]
  },
  {
   "cell_type": "code",
   "execution_count": 7,
   "metadata": {},
   "outputs": [
    {
     "data": {
      "text/plain": [
       "Text(0,0.5,'X')"
      ]
     },
     "execution_count": 7,
     "metadata": {},
     "output_type": "execute_result"
    },
    {
     "data": {
      "image/png": "[encoded data removed]",
      "text/plain": [
       "<Figure size 1224x360 with 1 Axes>"
      ]
     },
     "metadata": {},
     "output_type": "display_data"
    }
   ],
   "source": [
    "# 그래프 2\n",
    "plt.figure(1, figsize = (17, 5)) # width, height\n",
    "ax2 = plt.subplot(1, 3, 2, sharey = ax1)\n",
    "plt.plot(X[:, 1], Y, 'ro', markeredgecolor = 'none')\n",
    "plt.plot(X[:, 1], newY_est, 'go', markeredgecolor = 'none')\n",
    "plt.xlabel('Y', fontsize = 14)\n",
    "plt.ylabel('X', fontsize = 14)"
   ]
  }
 ],
 "metadata": {
  "kernelspec": {
   "display_name": "Python 3",
   "language": "python",
   "name": "python3"
  },
  "language_info": {
   "codemirror_mode": {
    "name": "ipython",
    "version": 3
   },
   "file_extension": ".py",
   "mimetype": "text/x-python",
   "name": "python",
   "nbconvert_exporter": "python",
   "pygments_lexer": "ipython3",
   "version": "3.6.5"
  }
 },
 "nbformat": 4,
 "nbformat_minor": 2
}
