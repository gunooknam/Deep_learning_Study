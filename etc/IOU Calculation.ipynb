{
 "cells": [
  {
   "cell_type": "markdown",
   "metadata": {},
   "source": [
    "# IOU ! InterSection over Union\n",
    "<img src=\"IOU2.png\">\n",
    "http://ronny.rest/tutorials/module/localization_001/iou/"
   ]
  },
  {
   "cell_type": "markdown",
   "metadata": {},
   "source": [
    "## 두개의 x1중에서 큰거, 두개의 y1중에서 큰거, 두개의 x2에서 작은거, 두개의 y2에서 작은거\n",
    "<img src=\"IOU.png\">"
   ]
  },
  {
   "cell_type": "markdown",
   "metadata": {},
   "source": [
    "## 이러한 IOU로 Score를 측정할 수 있다.\n",
    "<img src=\"IOU3.png\">"
   ]
  },
  {
   "cell_type": "code",
   "execution_count": 4,
   "metadata": {},
   "outputs": [],
   "source": [
    "import numpy as np"
   ]
  },
  {
   "cell_type": "markdown",
   "metadata": {},
   "source": [
    "# SIMPLE VERSION"
   ]
  },
  {
   "cell_type": "code",
   "execution_count": 18,
   "metadata": {},
   "outputs": [],
   "source": [
    "def get_iou(a, b, eps=1e-5):\n",
    "    '''\n",
    "    a : [x1, y1, x2, y2]\n",
    "    b:  [x1, y1, x2, y2]\n",
    "    eps : 나누면 0 될까바... 그거 방지\n",
    "    '''\n",
    "    x1 = max(a[0],b[0])\n",
    "    y1 = max(a[1],b[1])\n",
    "    x2 = min(a[2],b[2])\n",
    "    y2 = min(a[3],b[3])\n",
    "    \n",
    "    width = (x2 - x1)\n",
    "    height = (y2 - y1)\n",
    "    \n",
    "    if( width<0 ) or ( height<0 ):\n",
    "        return 0.0 # 예외 처리\n",
    "    area_overlap = width * height\n",
    "    \n",
    "    # 영억을 합치자 \n",
    "    area_a = (a[2] - a[0]) * (a[3] - a[1])\n",
    "    area_b = (b[2] - b[0]) * (b[3] - b[1])\n",
    "    area_combined = area_a + area_b - area_overlap\n",
    "    \n",
    "    iou = area_overlap / (area_combined + eps)\n",
    "    return iou"
   ]
  },
  {
   "cell_type": "markdown",
   "metadata": {},
   "source": [
    "# Test Simple IOU"
   ]
  },
  {
   "cell_type": "code",
   "execution_count": 19,
   "metadata": {},
   "outputs": [
    {
     "data": {
      "text/plain": [
       "0.14285714081632656"
      ]
     },
     "execution_count": 19,
     "metadata": {},
     "output_type": "execute_result"
    }
   ],
   "source": [
    "a=np.array([20,20,40,40])\n",
    "b=np.array([30,30,50,50])\n",
    "get_iou(a,b)"
   ]
  },
  {
   "cell_type": "markdown",
   "metadata": {},
   "source": [
    "# Batch Version"
   ]
  },
  {
   "cell_type": "code",
   "execution_count": 34,
   "metadata": {},
   "outputs": [],
   "source": [
    "def batch_iou(a, b, eps=1e-5):\n",
    "    \"\"\"\n",
    "      두 박스를 받는다. x1, y1은 left top의 좌표, x2, y2는 right bottom의 좌표\n",
    "      two arrays 'a' and 'b' [x1, y1, x2, y2] \n",
    "      (N,4) 단위로 넘겨줄 듯\n",
    "    \"\"\"\n",
    "    # Iteraction을 구하자 \n",
    "    x1 = np.array([a[:,0], b[:,0]]).max(axis=0)\n",
    "    y1 = np.array([a[:,1], b[:,1]]).max(axis=0)\n",
    "    x2 = np.array([a[:,2], b[:,2]]).min(axis=0)\n",
    "    y2 = np.array([a[:,3], b[:,3]]).min(axis=0)\n",
    "\n",
    "    # Area Of Overlap \n",
    "    width = (x2 - x1)\n",
    "    height = (y2 - y1)\n",
    "    \n",
    "    # 예외처리\n",
    "    width[width < 0] = 0 \n",
    "    height[height < 0] = 0\n",
    "    \n",
    "    area_overlap = width * height\n",
    "    \n",
    "    area_a = (a[:, 2] - a[:, 0]) * (a[:,3]-  a[:,1])\n",
    "    area_b = (b[:, 2] - b[:, 0]) * (b[:,3] - b[:,1])\n",
    "    area_combined = area_a + area_b - area_overlap\n",
    "    \n",
    "    iou = area_overlap / (area_combined + eps)\n",
    "    return iou"
   ]
  },
  {
   "cell_type": "markdown",
   "metadata": {},
   "source": [
    "# Test Batch IOU"
   ]
  },
  {
   "cell_type": "code",
   "execution_count": 43,
   "metadata": {},
   "outputs": [
    {
     "data": {
      "text/plain": [
       "array([0.14285714, 0.08333333])"
      ]
     },
     "execution_count": 43,
     "metadata": {},
     "output_type": "execute_result"
    }
   ],
   "source": [
    "a=np.array([[20,20,40,40], [30,30,50,50]])\n",
    "b=np.array([[30,30,50,50], [40,40,70,70]])\n",
    "batch_iou(a,b)"
   ]
  }
 ],
 "metadata": {
  "kernelspec": {
   "display_name": "Python 3",
   "language": "python",
   "name": "python3"
  },
  "language_info": {
   "codemirror_mode": {
    "name": "ipython",
    "version": 3
   },
   "file_extension": ".py",
   "mimetype": "text/x-python",
   "name": "python",
   "nbconvert_exporter": "python",
   "pygments_lexer": "ipython3",
   "version": "3.6.5"
  }
 },
 "nbformat": 4,
 "nbformat_minor": 2
}
