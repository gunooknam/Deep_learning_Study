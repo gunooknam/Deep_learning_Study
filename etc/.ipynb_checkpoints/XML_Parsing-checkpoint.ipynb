{
 "cells": [
  {
   "cell_type": "markdown",
   "metadata": {},
   "source": [
    "# ★ VOC annotation을 parsing 해보자\n",
    "내용은 아래와 같다. \n",
    "```\n",
    "{\n",
    "    \"filename\" : <XML Object>\n",
    "    ...\n",
    "<annotation>\n",
    "    <folder>VOC2007</folder>\n",
    "    <filename>000005.jpg</filename>\n",
    "    \n",
    "    <source>\n",
    "        <database>The VOC2007 Database</database>\n",
    "        <annotation>PASCAL VOC2007</annotation>\n",
    "        <image>flickr</image>\n",
    "        <flickrid>325991873</flickrid>\n",
    "    </source>\n",
    "    \n",
    "    <owner>\n",
    "    <flickrid>archintent louisville</flickrid>\n",
    "    <name>?</name>\n",
    "    </owner>\n",
    "    \n",
    "    <size>\n",
    "    <width>500</width>\n",
    "    <height>375</height>\n",
    "    <depth>3</depth>\n",
    "    </size>\n",
    "    \n",
    "    <segmented>0</segmented>\n",
    "    \n",
    "    <object>\n",
    "    <name>chair</name>\n",
    "    <pose>Rear</pose>\n",
    "    <truncated>0</truncated>\n",
    "    <difficult>0</difficult>\n",
    "        -<bndbox>\n",
    "            <xmin>263</xmin>\n",
    "            <ymin>211</ymin>\n",
    "            <xmax>324</xmax>\n",
    "            <ymax>339</ymax>\n",
    "        </bndbox>\n",
    "    </object>\n",
    "    \n",
    "</annotation>\n",
    "}\n",
    "\n",
    "```"
   ]
  },
  {
   "cell_type": "markdown",
   "metadata": {},
   "source": [
    "## 파이썬에는 xml 라이브러리를 제공한다."
   ]
  },
  {
   "cell_type": "code",
   "execution_count": 14,
   "metadata": {},
   "outputs": [],
   "source": [
    "from xml.etree.ElementTree import Element, ElementTree\n",
    "import xml.etree.ElementTree as ET"
   ]
  },
  {
   "cell_type": "code",
   "execution_count": 18,
   "metadata": {},
   "outputs": [],
   "source": [
    "doc = ET.parse('000005.xml')"
   ]
  },
  {
   "cell_type": "markdown",
   "metadata": {},
   "source": [
    "## 문자열 형태로 들어있는 경우 이렇게 처리"
   ]
  },
  {
   "cell_type": "code",
   "execution_count": 20,
   "metadata": {},
   "outputs": [
    {
     "name": "stdout",
     "output_type": "stream",
     "text": [
      "<Element 'users' at 0x00000242A77D0458>\n"
     ]
    }
   ],
   "source": [
    "xmlStr = '''\n",
    "            <users>\n",
    "                    <user grade=\"gold\">\n",
    "                        <name>Kim Cheol Soo</name>\n",
    "                        <age>25</age>\n",
    "                        <birthday>19940215</birthday>\n",
    "                    </user>\n",
    "                    <user grade=\"diamond\">\n",
    "                        <name>Kim Yoo Mee</name>\n",
    "                        <age>21</age>\n",
    "                        <birthday>19980417</birthday>\n",
    "                    </user>\n",
    "            </users>\n",
    "        '''\n",
    " \n",
    "tree = ET.fromstring(xmlStr)\n",
    "print(tree)"
   ]
  },
  {
   "cell_type": "code",
   "execution_count": 32,
   "metadata": {},
   "outputs": [
    {
     "name": "stdout",
     "output_type": "stream",
     "text": [
      "annotation {}\n"
     ]
    }
   ],
   "source": [
    "# 이렇게 하면 최상단의 루트를 가리킨다.\n",
    "root = doc.getroot()\n",
    "print(root.tag,root.attrib) # tag와 attrib를 빼온다."
   ]
  },
  {
   "cell_type": "markdown",
   "metadata": {},
   "source": [
    "# XML 태그의 구성\n",
    "\n",
    "```\n",
    "tag : 해당 태그의 이름\n",
    "text : 해당 태그의 값 \n",
    "attrib : 해당 노드의 attribute 맵 (key, value)\n",
    "<country name=\"Liechtenstein\">\n",
    "        <rank>1</rank>\n",
    "        <year>2008</year>\n",
    "        <gdppc>141100</gdppc>\n",
    "        <neighbor name=\"Austria\" direction=\"E\"/>\n",
    "        <neighbor name=\"Switzerland\" direction=\"W\"/>\n",
    "    </country>\n",
    "    \n",
    "예를 들어 리히텐슈타인의 year 태그의 tag는 \"year\", text는 \"2008\"이 된다.\n",
    "\n",
    "그리고, 리히텐슈타인은 neighber 태그는 다음의 attrib 맵을 가짐\n",
    "neighbor { \"name\" : \"Austria\",       \"Direction\" : \"E\" }\n",
    "neighbor { \"name\" : \"Switzerland\", \"Direction\" : \"W\" }\n",
    "```\n"
   ]
  },
  {
   "cell_type": "code",
   "execution_count": 27,
   "metadata": {},
   "outputs": [
    {
     "name": "stdout",
     "output_type": "stream",
     "text": [
      "<Element 'folder' at 0x00000242A77B4908>\n"
     ]
    }
   ],
   "source": [
    "annotation = root.find(\"folder\")\n",
    "print(annotation)"
   ]
  },
  {
   "cell_type": "code",
   "execution_count": 38,
   "metadata": {},
   "outputs": [
    {
     "name": "stdout",
     "output_type": "stream",
     "text": [
      "folder {}\n",
      "filename {}\n",
      "source {}\n",
      "owner {}\n",
      "size {}\n",
      "segmented {}\n",
      "object {}\n",
      "object {}\n",
      "object {}\n",
      "object {}\n",
      "object {}\n"
     ]
    }
   ],
   "source": [
    "for child_of_root in root:\n",
    "    print(child_of_root.tag, child_of_root.attrib)\n",
    "    "
   ]
  },
  {
   "cell_type": "code",
   "execution_count": 41,
   "metadata": {},
   "outputs": [
    {
     "name": "stdout",
     "output_type": "stream",
     "text": [
      "xmin 263\n",
      "ymin 211\n",
      "xmax 324\n",
      "ymax 339\n"
     ]
    }
   ],
   "source": [
    "for object in root.find(\"object\").find(\"bndbox\"):\n",
    "    print(object.tag, object.text)"
   ]
  }
 ],
 "metadata": {
  "kernelspec": {
   "display_name": "Python 3",
   "language": "python",
   "name": "python3"
  },
  "language_info": {
   "codemirror_mode": {
    "name": "ipython",
    "version": 3
   },
   "file_extension": ".py",
   "mimetype": "text/x-python",
   "name": "python",
   "nbconvert_exporter": "python",
   "pygments_lexer": "ipython3",
   "version": "3.6.5"
  }
 },
 "nbformat": 4,
 "nbformat_minor": 2
}
