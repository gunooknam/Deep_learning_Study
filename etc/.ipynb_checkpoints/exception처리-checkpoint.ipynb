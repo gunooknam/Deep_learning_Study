{
 "cells": [
  {
   "cell_type": "markdown",
   "metadata": {},
   "source": [
    "# sys 모듈은 파이썬 인터프리터와 관련된 정보와 기능을 제공하는 모듈인데...."
   ]
  },
  {
   "cell_type": "markdown",
   "metadata": {},
   "source": [
    "## 예외 처리를 하는데 있어서 exc_info() 라는 함수를 사용하면 무슨 일이 일어났나 볼 수 있다."
   ]
  },
  {
   "cell_type": "code",
   "execution_count": 1,
   "metadata": {},
   "outputs": [
    {
     "data": {
      "text/plain": [
       "(None, None, None)"
      ]
     },
     "execution_count": 1,
     "metadata": {},
     "output_type": "execute_result"
    }
   ],
   "source": [
    "import sys\n",
    "sys.exc_info()"
   ]
  },
  {
   "cell_type": "code",
   "execution_count": 9,
   "metadata": {},
   "outputs": [
    {
     "name": "stdout",
     "output_type": "stream",
     "text": [
      "[ ERROR : division by zero ] , [ moreInfo : <class 'ZeroDivisionError'>, obj: division by zero, linenum: \t2 ]\n"
     ]
    }
   ],
   "source": [
    "try :\n",
    "    1/0\n",
    "except Exception as e:\n",
    "    exc_type, exc_obj, exc_tb = sys.exc_info()\n",
    "    msg = \"[ ERROR : {} ] , [ moreInfo : {}, obj: {}, linenum: \\t{} ]\".format(e, exc_type, exc_obj, exc_tb.tb_lineno)\n",
    "    print(msg)"
   ]
  },
  {
   "cell_type": "code",
   "execution_count": 11,
   "metadata": {},
   "outputs": [],
   "source": [
    "import os \n",
    "(a,b,c)=next(os.walk(\".\"))"
   ]
  },
  {
   "cell_type": "code",
   "execution_count": 16,
   "metadata": {},
   "outputs": [
    {
     "name": "stdout",
     "output_type": "stream",
     "text": [
      "dirpath .\n",
      "dirname ['.ipynb_checkpoints', 'data']\n",
      "filename ['000005.xml', '1810.11981.pdf', 'AT-Exploring_the_Design_of_the_Cortex-A15.pdf', 'Basic_image_processing_in_Python.ipynb', 'DDI0438I_cortex_a15_r4p0_trm.pdf', 'exception처리.ipynb', 'IOU Calculation.ipynb', 'IOU.png', 'IOU2.png', 'IOU3.png', 'lena.png', 'Make_Custom_Data.ipynb', 'Python_OOP.ipynb', 'Python_Tutorial.ipynb', 'XML_Parsing.ipynb', '모양.PNG']\n"
     ]
    }
   ],
   "source": [
    "print(\"dirpath\",  a) # 현재 디렉토리 패스\n",
    "print(\"dirname\",  b) # dir name List\n",
    "print(\"filename\", c) # filaname List"
   ]
  }
 ],
 "metadata": {
  "kernelspec": {
   "display_name": "Python 3",
   "language": "python",
   "name": "python3"
  },
  "language_info": {
   "codemirror_mode": {
    "name": "ipython",
    "version": 3
   },
   "file_extension": ".py",
   "mimetype": "text/x-python",
   "name": "python",
   "nbconvert_exporter": "python",
   "pygments_lexer": "ipython3",
   "version": "3.6.5"
  }
 },
 "nbformat": 4,
 "nbformat_minor": 2
}
