{
 "cells": [
  {
   "cell_type": "markdown",
   "metadata": {},
   "source": [
    "# Python Generator와 yield 의 개념\n",
    "\n",
    "출처 - http://schoolofweb.net/blog/posts/%ED%8C%8C%EC%9D%B4%EC%8D%AC-%EC%A0%9C%EB%84%88%EB%A0%88%EC%9D%B4%ED%84%B0-generator/\n",
    "\n",
    "\n",
    "generator는 사전적의미로 발전기?, 뭔가 만드는 사람이나 물건을 뜻한다. \"제너레이터\"는 반복자와 같은 루프의 작용을 컨트롤하기 위해 쓰여지는 특별한 함수 또는 루틴이다.\n",
    "\n",
    "그래서 모든 제너레이터는 iterator 같은 것이다. 제너레이터는 배열이나 리스트를 리턴하는 함수와 비슷하고 호출을 할 수 있는 파라미터를 가지고 있고, 연속적인 값들을 만든다. 하지만 한번에 모든 값을 포함한 배열을 만들어서 리턴하는 대신에 __yield__ 구문을 이용해 한 번 호출될 때마다 하나의 값만 리턴하기 때문에 이러한 이유로 일반 반복자에 비해 아주 작은 메모리를 필요로 한다. 간단히 얘기하면 제너레이터는 반복자와 같은 역할을 하는 함수이다. \n",
    "\n",
    "● __한방에 리턴이 하나라 필요한 하나의 값만 리턴!!__\n",
    "\n",
    "\n",
    "### 일반함수의 경우\n",
    "일반함수는 호출되면 코드의 첫 번째행부터 시작해서 리턴 구문이나, 예외 또는 마지막 구문을 만날때까지 실행 후 호출자에게 모든 컨트롤를 리턴한다. 그리고 함수가 가지고 있던 모든 함수나 모든 로컬 변수는 메모리상에서 사라짐. 같은 함수가 다시 호출되면 모든 것은 처음부터 새롭게 시작한다.\n",
    "\n",
    "### Generator의 등장\n",
    "그런데 어느날부터 프로그래머들이 한번에 일을 다하고 영원히 사라져버리는 함수가 아닌 하나의 일을 마치면 자기가 했던 일을 기억하고 대기하고 있다가 다시 호출되면 전의 일을 계속하는 함수를 필요로 하기 시작했다. 그래서 만들어진 것이 제너레이터이다. 제너레이터를 사용하게 되면 일반함수보다 훨씬 좋은 퍼포먼스를 낼 수 있고, 메모리 리소스도 절약가능하다.\n"
   ]
  },
  {
   "cell_type": "code",
   "execution_count": 1,
   "metadata": {},
   "outputs": [
    {
     "name": "stdout",
     "output_type": "stream",
     "text": [
      "[1, 4, 9, 16, 25]\n"
     ]
    }
   ],
   "source": [
    "def square_numbers(nums):\n",
    "    result = []\n",
    "    for i in nums:\n",
    "        result.append(i*i)\n",
    "    return result\n",
    "\n",
    "my_nums = square_numbers([1,2,3,4,5])\n",
    "\n",
    "print(my_nums)"
   ]
  },
  {
   "cell_type": "markdown",
   "metadata": {},
   "source": [
    "### 위의 일반적인 함수가 있다. 제곱된 값을 리스터로 리턴하는 경우의 코드.... \n",
    "이것은 아래처럼 generator 코드로 수정"
   ]
  },
  {
   "cell_type": "code",
   "execution_count": 4,
   "metadata": {},
   "outputs": [
    {
     "name": "stdout",
     "output_type": "stream",
     "text": [
      "<generator object square_numbers at 0x00000242DE00A678>\n",
      "1\n",
      "4\n",
      "9\n"
     ]
    }
   ],
   "source": [
    "def square_numbers(nums):\n",
    "    result = []\n",
    "    for i in nums:\n",
    "        yield i*i\n",
    "\n",
    "my_nums = square_numbers([1,2,3,4,5])\n",
    "\n",
    "print(my_nums)\n",
    "print(next(my_nums)) \n",
    "print(next(my_nums)) \n",
    "print(next(my_nums)) "
   ]
  },
  {
   "cell_type": "markdown",
   "metadata": {},
   "source": [
    "# 한번 호출될 때마다 하나의 값을 yield 해버린다. \n",
    "\n",
    "* 그래서 next()라는 함수로 현재 다음 값이 무었인지 확인할 수 있다.\n",
    "* 끝에 도달하고 더 호출하면? => 에러가 뜰 수 있다."
   ]
  },
  {
   "cell_type": "code",
   "execution_count": 8,
   "metadata": {},
   "outputs": [
    {
     "name": "stdout",
     "output_type": "stream",
     "text": [
      "<generator object square_numbers at 0x00000242DE00AE60>\n",
      "1\n",
      "4\n",
      "9\n",
      "16\n",
      "25\n"
     ]
    },
    {
     "ename": "StopIteration",
     "evalue": "",
     "output_type": "error",
     "traceback": [
      "\u001b[1;31m---------------------------------------------------------------------------\u001b[0m",
      "\u001b[1;31mStopIteration\u001b[0m                             Traceback (most recent call last)",
      "\u001b[1;32m<ipython-input-8-6499a3f74e5e>\u001b[0m in \u001b[0;36m<module>\u001b[1;34m()\u001b[0m\n\u001b[0;32m     12\u001b[0m \u001b[0mprint\u001b[0m\u001b[1;33m(\u001b[0m\u001b[0mnext\u001b[0m\u001b[1;33m(\u001b[0m\u001b[0mmy_nums\u001b[0m\u001b[1;33m)\u001b[0m\u001b[1;33m)\u001b[0m\u001b[1;33m\u001b[0m\u001b[0m\n\u001b[0;32m     13\u001b[0m \u001b[0mprint\u001b[0m\u001b[1;33m(\u001b[0m\u001b[0mnext\u001b[0m\u001b[1;33m(\u001b[0m\u001b[0mmy_nums\u001b[0m\u001b[1;33m)\u001b[0m\u001b[1;33m)\u001b[0m\u001b[1;33m\u001b[0m\u001b[0m\n\u001b[1;32m---> 14\u001b[1;33m \u001b[0mprint\u001b[0m\u001b[1;33m(\u001b[0m\u001b[0mnext\u001b[0m\u001b[1;33m(\u001b[0m\u001b[0mmy_nums\u001b[0m\u001b[1;33m)\u001b[0m\u001b[1;33m)\u001b[0m\u001b[1;33m\u001b[0m\u001b[0m\n\u001b[0m",
      "\u001b[1;31mStopIteration\u001b[0m: "
     ]
    }
   ],
   "source": [
    "def square_numbers(nums):\n",
    "    result = []\n",
    "    for i in nums:\n",
    "        yield i*i\n",
    "\n",
    "my_nums = square_numbers([1,2,3,4,5])\n",
    "\n",
    "print(my_nums)\n",
    "print(next(my_nums)) \n",
    "print(next(my_nums)) \n",
    "print(next(my_nums)) \n",
    "print(next(my_nums)) \n",
    "print(next(my_nums)) \n",
    "# print(next(my_nums))  #=> 이 때 에러가 발생 "
   ]
  },
  {
   "cell_type": "markdown",
   "metadata": {},
   "source": [
    "## 그래서 for 문과 같이 사용하는 경우가 있다.  멈추는 데 까지 loop를 돌 수 있다."
   ]
  },
  {
   "cell_type": "code",
   "execution_count": 9,
   "metadata": {},
   "outputs": [
    {
     "name": "stdout",
     "output_type": "stream",
     "text": [
      "1\n",
      "4\n",
      "9\n",
      "16\n",
      "25\n"
     ]
    }
   ],
   "source": [
    "def square_numbers(nums):\n",
    "    result = []\n",
    "    for i in nums:\n",
    "        yield i*i\n",
    "\n",
    "my_nums = square_numbers([1,2,3,4,5])\n",
    "\n",
    "for num in my_nums:\n",
    "    print(num) #=> next(my_nums) 와 같은 역할을 하는데 for 문으로 자연스럽게 안의 값 꺼내줌"
   ]
  },
  {
   "cell_type": "markdown",
   "metadata": {},
   "source": [
    "# list Comprehesion\n",
    "코드를 간단하게 하기에 좋다. (이런거 for문의 in 옆에다가 쓰는 거 종종 봄)"
   ]
  },
  {
   "cell_type": "code",
   "execution_count": 12,
   "metadata": {},
   "outputs": [
    {
     "name": "stdout",
     "output_type": "stream",
     "text": [
      "[1, 4, 9, 16, 25]\n",
      "1\n",
      "4\n",
      "9\n",
      "16\n",
      "25\n"
     ]
    }
   ],
   "source": [
    "my_nums = [x*x for x in [1,2,3,4,5]]\n",
    "\n",
    "print(my_nums)\n",
    "\n",
    "for num in my_nums:\n",
    "    print(num)"
   ]
  },
  {
   "cell_type": "markdown",
   "metadata": {},
   "source": [
    "위의 경우는 list로 만든 것이지만 이것을 generator로 만들 수 있다.\n",
    "\n",
    "단순하게 []를 ()로 바꾸면 된다."
   ]
  },
  {
   "cell_type": "code",
   "execution_count": 25,
   "metadata": {},
   "outputs": [
    {
     "name": "stdout",
     "output_type": "stream",
     "text": [
      "<generator object <genexpr> at 0x00000242DE00AE60>\n",
      "Generator to List [1, 4, 9, 16, 25]\n",
      "[]\n"
     ]
    }
   ],
   "source": [
    "my_nums = (x*x for x in [1,2,3,4,5])\n",
    "\n",
    "print(my_nums)\n",
    "\n",
    "print(\"Generator to List\",list(my_nums))\n",
    "# next(my_nums) # 에러가 뜬다. 한번 리스트로 바꾸면 제너레이터의 기능 잃어버림\n",
    "\n",
    "for num in my_nums:\n",
    "    print(num)\n",
    "\n",
    "print(list(my_nums))\n"
   ]
  },
  {
   "cell_type": "markdown",
   "metadata": {},
   "source": [
    "Generator의 중요한 장점은 퍼포먼스이다. 제너레이터는 모든 결과값을 메뫼에 저장하지 않아서 더 좋은 퍼포먼스를 낸다.\n",
    "# 아래의 두개의 코드를 비교 100만개의 학생 정보를 리스트에 담는 코드"
   ]
  },
  {
   "cell_type": "code",
   "execution_count": 30,
   "metadata": {},
   "outputs": [
    {
     "name": "stdout",
     "output_type": "stream",
     "text": [
      "시작 전 메모리 사용량: 25.36328125 MB\n",
      "종료 후 메모리 사용량: 306.6484375 MB\n",
      "총 소요된 시간: 1.361369 초\n"
     ]
    }
   ],
   "source": [
    "# -*- coding: utf-8 -*-\n",
    "from __future__ import division\n",
    "import os\n",
    "import psutil\n",
    "import random\n",
    "import time\n",
    "\n",
    "names = ['최용호', '지길정', '진영욱', '김세훈', '오세훈', '김민우']\n",
    "majors = ['컴퓨터 공학', '국문학', '영문학', '수학', '정치']\n",
    "\n",
    "process = psutil.Process(os.getpid())\n",
    "mem_before = process.memory_info().rss / 1024 / 1024\n",
    "\n",
    "\n",
    "def people_list(num_people):\n",
    "    result = []\n",
    "    for i in range(num_people):\n",
    "        person = {\n",
    "            'id': i,\n",
    "            'name': random.choice(names),\n",
    "            'major': random.choice(majors)\n",
    "        }\n",
    "        result.append(person)\n",
    "    return result\n",
    "\n",
    "t1 = time.clock()\n",
    "\n",
    "# 100만명의 학생의 정보가 들어가는 리스트를 만듬\n",
    "people = people_list(1000000)  #1 people_list를 호출\n",
    "t2 = time.clock()\n",
    "mem_after = process.memory_info().rss / 1024 / 1024\n",
    "total_time = t2 - t1\n",
    "\n",
    "print('시작 전 메모리 사용량: {} MB'.format(mem_before))\n",
    "print('종료 후 메모리 사용량: {} MB'.format(mem_after))\n",
    "print('총 소요된 시간: {:.6f} 초'.format(total_time))"
   ]
  },
  {
   "cell_type": "code",
   "execution_count": 32,
   "metadata": {},
   "outputs": [
    {
     "name": "stdout",
     "output_type": "stream",
     "text": [
      "시작 전 메모리 사용량: 36.06640625 MB\n",
      "종료 후 메모리 사용량: 36.06640625 MB\n",
      "총 소요된 시간: 0.000021 초\n"
     ]
    }
   ],
   "source": [
    "# -*- coding: utf-8 -*-\n",
    "from __future__ import division\n",
    "import os\n",
    "import psutil\n",
    "import random\n",
    "import time\n",
    "\n",
    "names = ['최용호', '지길정', '진영욱', '김세훈', '오세훈', '김민우']\n",
    "majors = ['컴퓨터 공학', '국문학', '영문학', '수학', '정치']\n",
    "\n",
    "process = psutil.Process(os.getpid())\n",
    "mem_before = process.memory_info().rss / 1024 / 1024\n",
    "def people_generator(num_people):\n",
    "    for i in range(num_people):\n",
    "        person = {\n",
    "            'id': i,\n",
    "            'name': random.choice(names),\n",
    "            'major': random.choice(majors)\n",
    "        }\n",
    "        yield person\n",
    "\n",
    "t1 = time.clock()\n",
    "people = people_generator(1000000)  #1 people_generator를 호출\n",
    "t2 = time.clock()\n",
    "mem_after = process.memory_info().rss / 1024 / 1024\n",
    "total_time = t2 - t1\n",
    "\n",
    "print('시작 전 메모리 사용량: {} MB'.format(mem_before))\n",
    "print('종료 후 메모리 사용량: {} MB'.format(mem_after))\n",
    "print('총 소요된 시간: {:.6f} 초'.format(total_time))"
   ]
  },
  {
   "cell_type": "markdown",
   "metadata": {},
   "source": [
    "# 효율적인 Memory를 사용하는 코드가 속도에 영향을 미친다."
   ]
  },
  {
   "cell_type": "markdown",
   "metadata": {},
   "source": [
    "# 파이썬의 Asterisk(*)를 이해하자"
   ]
  },
  {
   "cell_type": "markdown",
   "metadata": {},
   "source": [
    "*를 사용하는 상황은 크게 4가지로 구분된다.\n",
    "\n",
    "* 곱셈 및 거듭제곱 연산으로 사용할 때\n",
    "* 리스트형 컨테이너 타입의 데이터를 반복 확장하고자 할 때\n",
    "* 가변인자!를 사용하고자 할 때\n",
    "* 컨테이너 타입의 데이터를 Unpacking할 때\n"
   ]
  },
  {
   "cell_type": "code",
   "execution_count": 6,
   "metadata": {},
   "outputs": [
    {
     "name": "stdout",
     "output_type": "stream",
     "text": [
      "6\n",
      "8\n",
      "4.2066\n",
      "2.029903914742676\n"
     ]
    }
   ],
   "source": [
    "print(2 * 3)  # 2곱하기 3\n",
    "\n",
    "print(2 ** 3) # 2의 3제곱\n",
    "print(1.23 * 3.42) # 실수 곱\n",
    "print(1.23 ** 3.42) # 실수 제곱"
   ]
  },
  {
   "cell_type": "code",
   "execution_count": 9,
   "metadata": {},
   "outputs": [
    {
     "name": "stdout",
     "output_type": "stream",
     "text": [
      "[1, 1, 1, 1, 1, 1, 1, 1, 1, 1, 1, 1, 1, 1, 1, 1, 1, 1, 1, 1, 1, 1, 1, 1, 1, 1, 1, 1, 1, 1, 1, 1, 1, 1, 1, 1, 1, 1, 1, 1, 1, 1, 1, 1, 1, 1, 1, 1, 1, 1, 1, 1, 1, 1, 1, 1, 1, 1, 1, 1, 1, 1, 1, 1, 1, 1, 1, 1, 1, 1, 1, 1, 1, 1, 1, 1, 1, 1, 1, 1, 1, 1, 1, 1, 1, 1, 1, 1, 1, 1, 1, 1, 1, 1, 1, 1, 1, 1, 1, 1]\n"
     ]
    }
   ],
   "source": [
    "# 길이 100의 제로값 리스트 초기화\n",
    "one_list = [1] * 100\n",
    "print(one_list)"
   ]
  },
  {
   "cell_type": "code",
   "execution_count": 14,
   "metadata": {},
   "outputs": [
    {
     "name": "stdout",
     "output_type": "stream",
     "text": [
      "(0, 0, 0, 0, 0, 0, 0, 0, 0, 0, 0, 0, 0, 0, 0, 0, 0, 0, 0, 0, 0, 0, 0, 0, 0, 0, 0, 0, 0, 0, 0, 0, 0, 0, 0, 0, 0, 0, 0, 0, 0, 0, 0, 0, 0, 0, 0, 0, 0, 0, 0, 0, 0, 0, 0, 0, 0, 0, 0, 0, 0, 0, 0, 0, 0, 0, 0, 0, 0, 0, 0, 0, 0, 0, 0, 0, 0, 0, 0, 0, 0, 0, 0, 0, 0, 0, 0, 0, 0, 0, 0, 0, 0, 0, 0, 0, 0, 0, 0, 0)\n"
     ]
    }
   ],
   "source": [
    "zeros_tuple = (0,) * 100\n",
    "            # 튜플인지 구별하기 위해 ,를 반드시 붙인다.\n",
    "print(zeros_tuple)"
   ]
  },
  {
   "cell_type": "code",
   "execution_count": 16,
   "metadata": {},
   "outputs": [
    {
     "name": "stdout",
     "output_type": "stream",
     "text": [
      "1 scalar product of vector: [1, 2, 3]\n",
      "2 scalar product of vector: [2, 4, 6]\n",
      "3 scalar product of vector: [3, 6, 9]\n"
     ]
    }
   ],
   "source": [
    "# 리스트형 컨테이너 타입의 데이터를 반복 확장하고자 할 때\n",
    "vector_list = [[1,2,3]]\n",
    "for i, vector in enumerate(vector_list * 3):\n",
    "    print(\"{0} scalar product of vector: {1}\".format((i + 1), [(i + 1) * e for e in vector]))"
   ]
  },
  {
   "cell_type": "code",
   "execution_count": 22,
   "metadata": {},
   "outputs": [
    {
     "name": "stdout",
     "output_type": "stream",
     "text": [
      "('ming', 'alice', 'tom', 'wilson', 'roy')\n",
      "ming\n",
      "alice\n"
     ]
    }
   ],
   "source": [
    "# * 한개 쓴다면 이건 튜플에 저장된다.\n",
    "\n",
    "def save_ranking(*args):\n",
    "    print(args)\n",
    "    print(args[0])\n",
    "    print(args[1])\n",
    "\n",
    "\n",
    "save_ranking('ming', 'alice', 'tom', 'wilson', 'roy')"
   ]
  },
  {
   "cell_type": "code",
   "execution_count": 23,
   "metadata": {},
   "outputs": [
    {
     "name": "stdout",
     "output_type": "stream",
     "text": [
      "{'first': 'ming', 'second': 'alice', 'fourth': 'wilson', 'third': 'tom', 'fifth': 'roy'}\n",
      "ming\n"
     ]
    }
   ],
   "source": [
    "# ** 두개 쓸 때 >> 이건 딕셔너리에 저장된다. \n",
    "\n",
    "def save_ranking(**kwargs):\n",
    "    print(kwargs)\n",
    "    print(kwargs['first'])\n",
    "    \n",
    "    \n",
    "save_ranking(first='ming', second='alice', fourth='wilson', third='tom', fifth='roy')"
   ]
  },
  {
   "cell_type": "code",
   "execution_count": 25,
   "metadata": {},
   "outputs": [
    {
     "name": "stdout",
     "output_type": "stream",
     "text": [
      "30030\n",
      "[2, 3, 5, 7, 11, 13]\n"
     ]
    }
   ],
   "source": [
    "from functools import reduce\n",
    "\n",
    "primes = [2, 3, 5, 7, 11, 13]\n",
    "\n",
    "def product(*numbers):\n",
    "    p = reduce(lambda x, y: x * y, numbers)\n",
    "    return p\n",
    "\n",
    "print( product(*primes) )\n",
    "# 30030\n",
    "\n",
    "print( product(primes) )\n",
    "# [2, 3, 5, 7, 11, 13]"
   ]
  },
  {
   "cell_type": "code",
   "execution_count": 1,
   "metadata": {},
   "outputs": [],
   "source": [
    "dic = {\n",
    "        'apple':'good',\n",
    "        'banana':'no',\n",
    "        'grape': 'not bad'\n",
    "      }"
   ]
  },
  {
   "cell_type": "markdown",
   "metadata": {},
   "source": [
    "# 리스트 안에 [ ele1, ele2, ele3 ] 들어 있니? \n",
    "\n",
    "if ele1 in [ele1, ele2, ele3 ]:"
   ]
  },
  {
   "cell_type": "code",
   "execution_count": 19,
   "metadata": {},
   "outputs": [
    {
     "name": "stdout",
     "output_type": "stream",
     "text": [
      "1\n",
      "Ok\n",
      "2\n",
      "3\n",
      "key apple, value : good\n",
      "key banana, value : no\n",
      "key grape, value : not bad\n"
     ]
    }
   ],
   "source": [
    "print(\"1\")\n",
    "if \"good\" in ['good','no','not bad']:\n",
    "    print(\"Ok\")\n",
    "print(\"2\")\n",
    "if \"not good\" in ['good','no','not bad']:\n",
    "    print(\"Ok\")\n",
    "print(\"3\")    \n",
    "for a in dic:\n",
    "    print(f\"key {a}, value : {dic[a]}\")"
   ]
  }
 ],
 "metadata": {
  "kernelspec": {
   "display_name": "Python 3",
   "language": "python",
   "name": "python3"
  },
  "language_info": {
   "codemirror_mode": {
    "name": "ipython",
    "version": 3
   },
   "file_extension": ".py",
   "mimetype": "text/x-python",
   "name": "python",
   "nbconvert_exporter": "python",
   "pygments_lexer": "ipython3",
   "version": "3.6.5"
  }
 },
 "nbformat": 4,
 "nbformat_minor": 2
}
