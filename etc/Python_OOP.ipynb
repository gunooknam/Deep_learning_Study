{
 "cells": [
  {
   "cell_type": "markdown",
   "metadata": {},
   "source": [
    "## Python Object-Oriented Programming Tutorial\n",
    "\n",
    "## 기본적인 용어 개념\n",
    "* 클래스 → 설계도\n",
    "* 설계도에 의해서 만들어진 제품 → Instance\n",
    "\n",
    "### 왜 클래스를 쓸까?\n",
    "* 데이터와 함수들을 Logical하게 Grouping이 가능하다.\n",
    "* 이러한 클래스를 이용한 모델링을 이용하면 program안에서의 state 관리에 있어서 효과적이다.\n",
    "* 일종의 \"blueprint\" 역할\n",
    "\n",
    "## Class 정의 example"
   ]
  },
  {
   "cell_type": "code",
   "execution_count": 5,
   "metadata": {},
   "outputs": [],
   "source": [
    "class example(object):\n",
    "    pass"
   ]
  },
  {
   "cell_type": "markdown",
   "metadata": {},
   "source": [
    "python에서 많이 사용되는 'pass' 라는 키워드는 실행할 것이 없다는 것을 의미한다."
   ]
  },
  {
   "cell_type": "code",
   "execution_count": 62,
   "metadata": {},
   "outputs": [],
   "source": [
    "# Class example\n",
    "class Customer(object): # 클래스를 정의\n",
    "    '''\n",
    "    OOP는 우리의 real world 문제를 푸는데 효과적이다.\n",
    "    '''\n",
    "    def __init__(self, name, balance=0.0): \n",
    "        self.name = name\n",
    "        self.balance= balance\n",
    "    \n",
    "    def printname(self,a):\n",
    "        return print(a)\n",
    "        \n",
    "    # instance method\n",
    "    def withdraw(self, amount):\n",
    "        if amount > self.balance:\n",
    "            raise RuntimeError('잔고가 없네요.')\n",
    "        self.balance -= amount\n",
    "        return self.balance\n",
    "    \n",
    "    # instance method\n",
    "    def deposit(self, amount):\n",
    "        self.balance +=amount\n",
    "        return self.balance\n",
    "    "
   ]
  },
  {
   "cell_type": "code",
   "execution_count": 65,
   "metadata": {},
   "outputs": [
    {
     "name": "stdout",
     "output_type": "stream",
     "text": [
      "20\n"
     ]
    },
    {
     "data": {
      "text/plain": [
       "80.0"
      ]
     },
     "execution_count": 65,
     "metadata": {},
     "output_type": "execute_result"
    }
   ],
   "source": [
    "Per = Customer(\"Kim\",100.0)\n",
    "Customer.printname(None,20) # 첫번째 파라미터에 인자를 넣어야 함.... 인스턴스 메서드이므로\n",
    "Per.withdraw(20)\n"
   ]
  },
  {
   "cell_type": "markdown",
   "metadata": {},
   "source": [
    "## Class Instantiation\n",
    "\n",
    "* \"class Customet(object):\" 라고 쓰인 line은 클래스(설계도,blueprint)를 단지 정의하는 것이다. (객체를 생성하는 것이 아니다.)\n",
    "\n",
    "* Java나 C++에서의 생성자와 비슷한 method로 '__init__' method라고 하는 것은 객체가 생성될 때 자동으로 호출되는 method를 의미한다.\n",
    "* 'def __init__(self, name, balence=0.0):' 과 같은 표현을 사용하여 default 인자를 넣을 수도 있다.\n",
    "\n",
    "## 객체의 생성은 다음과 같다"
   ]
  },
  {
   "cell_type": "code",
   "execution_count": 3,
   "metadata": {},
   "outputs": [
    {
     "name": "stdout",
     "output_type": "stream",
     "text": [
      "Person's name is Kim and Balance is 100.0\n",
      "Park\n"
     ]
    }
   ],
   "source": [
    "# 객체의 생성\n",
    "Person = Customer(\"Kim\",100.0)\n",
    "print(\"Person's name is {0} and Balance is {1}\".format(Person.name, Person.balance))\n",
    "Person.name = \"Park\"\n",
    "print(Person.name)"
   ]
  },
  {
   "cell_type": "markdown",
   "metadata": {},
   "source": [
    "## 클래스 변수에 대한 예제\n",
    "* 아래의 코드 결과처럼 인스턴스를 만들면 인스턴스에서 Class 변수는 값을 따로 할당한다. 만들기 전에는 공유함"
   ]
  },
  {
   "cell_type": "code",
   "execution_count": 2,
   "metadata": {},
   "outputs": [
    {
     "name": "stdout",
     "output_type": "stream",
     "text": [
      "인스턴스 생성 한 걸로 :  4\n",
      "인스턴스 생성 없이 :  4\n",
      "\n",
      "instance로 접근하여 변경\n",
      "인스턴스 생성 한 걸로 :  5\n",
      "인스턴스 생성 없이 :  4\n",
      "\n",
      "객체로 접근하여 변경\n",
      "인스턴스 생성 한 걸로 :  5\n",
      "인스턴스 생성 없이 :  6\n",
      "\n",
      "새로운 Car 객체 생성\n",
      "인스턴스 생성 없이 :  6\n"
     ]
    }
   ],
   "source": [
    "class Car(object):\n",
    "    \n",
    "    wheels = 4 # class 변수\n",
    "    \n",
    "    def __init__(self, make, model):\n",
    "        self.make = make # self를 끼고 있는 것 객체 변수\n",
    "        self.model= model\n",
    "        \n",
    "mustang = Car('Ford', 'Mustang')\n",
    "print(\"인스턴스 생성 한 걸로 : \",mustang.wheels)\n",
    "print(\"인스턴스 생성 없이 : \",Car.wheels)\n",
    "\n",
    "# instance로 접근하여 변경 \n",
    "print(\"\\ninstance로 접근하여 변경\")\n",
    "mustang.wheels = 5\n",
    "print(\"인스턴스 생성 한 걸로 : \",mustang.wheels)\n",
    "print(\"인스턴스 생성 없이 : \",Car.wheels)\n",
    "\n",
    "# 객체로 접근하여 변경\n",
    "print(\"\\n객체로 접근하여 변경\")\n",
    "Car.wheels=6\n",
    "print(\"인스턴스 생성 한 걸로 : \",mustang.wheels)\n",
    "print(\"인스턴스 생성 없이 : \",Car.wheels)\n",
    "\n",
    "print(\"\\n새로운 Car 객체 생성\")\n",
    "Hyundai = Car('New_Car', 'Hyundai')\n",
    "print(\"인스턴스 생성 없이 : \",Hyundai.wheels)"
   ]
  },
  {
   "cell_type": "markdown",
   "metadata": {},
   "source": [
    "## Instance Methods\n",
    "\n",
    "* 일반적으로 Class 안에 정의되는 함수를 'method' 라고 부른다.\n",
    "\n",
    "* method는 객체의 instance 안에 포함된 모든 데이터에 접근할 수 있다.\n",
    "\n",
    "* Python에서는 self라는 키워드를 사용하여 변수에 접근한다. (self는 this와 비슷하다.)\n",
    "\n",
    "## Static Methods\n",
    "\n",
    "* 정적 메소드라고 불리는 이 메소드는 self로 접근할 필요가 없으며 인스턴스 생성 없이도 동작이 가능하다. \n",
    "* class 변수 : 함수 바깥 쪽에 위치한 변수\n",
    " * 다른 인스턴스들과 공유할 수 있다. \n",
    " \n",
    "* instance 변수 : self를 끼고 나타나는 것 \n",
    " * 해당 인스턴스를 제외한 다른 인스턴스들이 접근할 수 없다.\n",
    " \n",
    " \n"
   ]
  },
  {
   "cell_type": "markdown",
   "metadata": {},
   "source": [
    "# 세가지 메서드\n",
    "* instance method는 첫번째 인자로 객체 자신 self자신을 입력합니다.\n",
    "* classmethod는 첫번째 인자로 클래스를 입력합니다.\n",
    " * 인스턴스를 할당하고 그 인스턴스로 접근하면 클래스 인자 생각하고 메서드 사용가능\n",
    " * 인스턴스 할당하지 않고 메서드를 호출하는 \n",
    " \n",
    "* staticmethod는 특별히 추가되는 인자가 없습니다.\n",
    "\n",
    "### class method와 static method가 매우 비슷함..."
   ]
  },
  {
   "cell_type": "code",
   "execution_count": 16,
   "metadata": {},
   "outputs": [],
   "source": [
    "class CustomClass:\n",
    "      \n",
    "      # instance method\n",
    "      def add_instance_method(self, a,b):\n",
    "          return a + b\n",
    "    \n",
    "      # classmethod\n",
    "      @classmethod\n",
    "      def add_class_method(cls, a, b):\n",
    "          return a + b\n",
    "    \n",
    "      # staticmethod\n",
    "      @staticmethod\n",
    "      def add_static_method(a, b):\n",
    "          return a + b"
   ]
  },
  {
   "cell_type": "markdown",
   "metadata": {},
   "source": [
    "## instance method는 인스턴스의 정보가 있어야 에러가 안뜬다.\n",
    "* 인스턴스를 만들어서 그 인스턴스로 method를 불러오는 경우\n",
    "* 클래스로 접근하는 경우에는 인스턴스를 넣어줌"
   ]
  },
  {
   "cell_type": "code",
   "execution_count": 36,
   "metadata": {},
   "outputs": [
    {
     "data": {
      "text/plain": [
       "8"
      ]
     },
     "execution_count": 36,
     "metadata": {},
     "output_type": "execute_result"
    }
   ],
   "source": [
    "Hello=CustomClass()\n",
    "Hello.add_instance_method(3, 5) \n",
    "# 이것은 에러가 나지 않는데.... 이미 객체가 들어갔으니 self에 해당하는 객체는 안넣어도 된다.\n",
    "\n",
    "CustomClass.add_instance_method(None,3, 5) # 이렇게 하면 실행됨\n",
    "# 반면  CustomClass.add_instance_method(3, 5) 에러가 뜬다.\n",
    "# 즉 인스턴스 변수는 객체를 만들어주지 않으면 인자로 객체를 넣어야 한다."
   ]
  },
  {
   "cell_type": "code",
   "execution_count": 34,
   "metadata": {},
   "outputs": [
    {
     "data": {
      "text/plain": [
       "8"
      ]
     },
     "execution_count": 34,
     "metadata": {},
     "output_type": "execute_result"
    }
   ],
   "source": [
    "# CustomClass.add_class_method(CustomClass, 3, 5) # 에러가 뜬다.\n",
    "CustomClass.add_class_method(3,5) # 정의부에서 첫 번째 인자가 클래스지만 생략"
   ]
  },
  {
   "cell_type": "code",
   "execution_count": 28,
   "metadata": {},
   "outputs": [
    {
     "data": {
      "text/plain": [
       "8"
      ]
     },
     "execution_count": 28,
     "metadata": {},
     "output_type": "execute_result"
    }
   ],
   "source": [
    "CustomClass.add_static_method(3,5)"
   ]
  },
  {
   "cell_type": "code",
   "execution_count": 32,
   "metadata": {},
   "outputs": [
    {
     "name": "stdout",
     "output_type": "stream",
     "text": [
      "8\n",
      "8\n"
     ]
    }
   ],
   "source": [
    "a = CustomClass()\n",
    "print(a.add_class_method(3, 5))\n",
    "print(a.add_static_method(3, 5))"
   ]
  },
  {
   "cell_type": "code",
   "execution_count": 71,
   "metadata": {},
   "outputs": [],
   "source": [
    "class Language(object):\n",
    "      default_language = \"English\"\n",
    "    \n",
    "      def __init__(self):\n",
    "          self.show = '나의 언어는 ' + self.default_language\n",
    "    \n",
    "      @classmethod\n",
    "      def class_my_language(cls):\n",
    "          return cls()\n",
    "    \n",
    "      @staticmethod\n",
    "      def static_my_language():\n",
    "          return Language()\n",
    "    \n",
    "      def print_language(self): # 받은 객체를 출력한다.\n",
    "          print(self.show)\n",
    "    \n",
    "    \n",
    "class KoreanLanguage(Language):\n",
    "      default_language = \"한국어\"\n",
    "        "
   ]
  },
  {
   "cell_type": "code",
   "execution_count": 72,
   "metadata": {},
   "outputs": [
    {
     "name": "stdout",
     "output_type": "stream",
     "text": [
      "나의 언어는 English\n",
      "나의 언어는 한국어\n"
     ]
    }
   ],
   "source": [
    "a = KoreanLanguage.static_my_language()\n",
    "# 부모의 클래스 속성 값을 가져온다.\n",
    "\n",
    "b = KoreanLanguage.class_my_language()\n",
    "# cls인자의 값을 이용하여 cls의 클래스 속성을 가져온다.\n",
    "\n",
    "a.print_language() # 받은 객체를 출력한다.\n",
    "b.print_language()"
   ]
  },
  {
   "cell_type": "markdown",
   "metadata": {},
   "source": [
    "### => ... 결론은 크게 별차이 없은 인자로 class 넣는 것 제외하곤 ..."
   ]
  },
  {
   "cell_type": "markdown",
   "metadata": {},
   "source": [
    "# python inheritance in MVC Pattern\n",
    "\n",
    "* NotImplementedError \n",
    " *  => 이것은 반드시 구현하라는 표시.. 아래 코드에서 Model과 View는 interface와 같은 느낌이다.\n",
    " \n",
    "### 그래서 이 코드는 Model이라는 추상 클래스를 Product라는 구체 클래스가 구현하고,\n",
    "\n",
    "### View라는 추상 클래스를 ConsoleView라는 클래스가 구현 \n",
    "  "
   ]
  },
  {
   "cell_type": "code",
   "execution_count": 66,
   "metadata": {},
   "outputs": [],
   "source": [
    "# Python MVC pattern\n",
    "# https://github.com/faif/python-patterns/blob/master/patterns/structural/mvc.py\n",
    "\n",
    "class Model(object):\n",
    "    def __iter__(self):\n",
    "        raise NotImplementedError\n",
    "\n",
    "    def get(self, item):\n",
    "        \"\"\"Returns an object with a .items() call method\n",
    "        that iterates over key,value pairs of its information.\"\"\"\n",
    "        raise NotImplementedError\n",
    "\n",
    "    @property\n",
    "    def item_type(self):\n",
    "        raise NotImplementedError\n",
    "\n",
    "\n",
    "class ProductModel(Model):\n",
    "    class Price(float):\n",
    "        \"\"\"A polymorphic way to pass a float with a particular\n",
    "        __str__ functionality.\"\"\"\n",
    "\n",
    "        def __str__(self):\n",
    "            return \"{:.2f}\".format(self)\n",
    "\n",
    "    products = {\n",
    "        'milk': {'price': Price(1.50), 'quantity': 10},\n",
    "        'eggs': {'price': Price(0.20), 'quantity': 100},\n",
    "        'cheese': {'price': Price(2.00), 'quantity': 10},\n",
    "    }\n",
    "\n",
    "    item_type = 'product'\n",
    "\n",
    "    def __iter__(self):\n",
    "        for item in self.products:\n",
    "            yield item\n",
    "\n",
    "    def get(self, product):\n",
    "        try:\n",
    "            return self.products[product]\n",
    "        except KeyError as e:\n",
    "            raise KeyError((str(e) + \" not in the model's item list.\"))\n",
    "\n",
    "\n",
    "class View(object):\n",
    "    def show_item_list(self, item_type, item_list):\n",
    "        raise NotImplementedError\n",
    "\n",
    "    def show_item_information(self, item_type, item_name, item_info):\n",
    "        \"\"\"Will look for item information by iterating over key,value pairs\n",
    "        yielded by item_info.items()\"\"\"\n",
    "        raise NotImplementedError\n",
    "\n",
    "    def item_not_found(self, item_type, item_name):\n",
    "        raise NotImplementedError\n",
    "\n",
    "\n",
    "class ConsoleView(View):\n",
    "    def show_item_list(self, item_type, item_list):\n",
    "        print(item_type.upper() + ' LIST:')\n",
    "        for item in item_list:\n",
    "            print(item)\n",
    "        print('')\n",
    "\n",
    "    @staticmethod\n",
    "    def capitalizer(string):\n",
    "        return string[0].upper() + string[1:].lower()\n",
    "\n",
    "    def show_item_information(self, item_type, item_name, item_info):\n",
    "        print(item_type.upper() + ' INFORMATION:')\n",
    "        printout = 'Name: %s' % item_name\n",
    "        for key, value in item_info.items():\n",
    "            printout += ', ' + self.capitalizer(str(key)) + ': ' + str(value)\n",
    "        printout += '\\n'\n",
    "        print(printout)\n",
    "\n",
    "    def item_not_found(self, item_type, item_name):\n",
    "        print('That %s \"%s\" does not exist in the records' % (item_type, item_name))\n",
    "\n",
    "\n",
    "class Controller(object):\n",
    "    def __init__(self, model, view):\n",
    "        self.model = model\n",
    "        self.view = view\n",
    "\n",
    "    def show_items(self):\n",
    "        items = list(self.model)\n",
    "        item_type = self.model.item_type\n",
    "        self.view.show_item_list(item_type, items)\n",
    "\n",
    "    def show_item_information(self, item_name):\n",
    "        try:\n",
    "            item_info = self.model.get(item_name)\n",
    "        except Exception:\n",
    "            item_type = self.model.item_type\n",
    "            self.view.item_not_found(item_type, item_name)\n",
    "        else:\n",
    "            item_type = self.model.item_type\n",
    "            self.view.show_item_information(item_type, item_name, item_info)\n"
   ]
  },
  {
   "cell_type": "code",
   "execution_count": 68,
   "metadata": {},
   "outputs": [
    {
     "name": "stdout",
     "output_type": "stream",
     "text": [
      "PRODUCT LIST:\n",
      "milk\n",
      "eggs\n",
      "cheese\n",
      "\n",
      "PRODUCT INFORMATION:\n",
      "Name: cheese, Price: 2.00, Quantity: 10\n",
      "\n",
      "PRODUCT INFORMATION:\n",
      "Name: eggs, Price: 0.20, Quantity: 100\n",
      "\n",
      "PRODUCT INFORMATION:\n",
      "Name: milk, Price: 1.50, Quantity: 10\n",
      "\n",
      "That product \"arepas\" does not exist in the records\n"
     ]
    }
   ],
   "source": [
    "model = ProductModel()\n",
    "view = ConsoleView()\n",
    "controller = Controller(model, view)\n",
    "controller.show_items()\n",
    "controller.show_item_information('cheese')\n",
    "controller.show_item_information('eggs')\n",
    "controller.show_item_information('milk')\n",
    "controller.show_item_information('arepas')"
   ]
  }
 ],
 "metadata": {
  "kernelspec": {
   "display_name": "Python 3",
   "language": "python",
   "name": "python3"
  },
  "language_info": {
   "codemirror_mode": {
    "name": "ipython",
    "version": 3
   },
   "file_extension": ".py",
   "mimetype": "text/x-python",
   "name": "python",
   "nbconvert_exporter": "python",
   "pygments_lexer": "ipython3",
   "version": "3.6.5"
  }
 },
 "nbformat": 4,
 "nbformat_minor": 2
}
