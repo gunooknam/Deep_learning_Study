{
 "cells": [
  {
   "cell_type": "markdown",
   "metadata": {},
   "source": [
    "## Python Object-Oriented Programming Tutorial\n",
    "\n",
    "## 기본적인 용어 개념\n",
    "* 클래스 → 설계도\n",
    "* 설계도에 의해서 만들어진 제품 → Instance\n",
    "\n",
    "### 왜 클래스를 쓸까?\n",
    "* 데이터와 함수들을 Logical하게 Grouping이 가능하다.\n",
    "* 이러한 클래스를 이용한 모델링을 이용하면 program안에서의 state 관리에 있어서 효과적이다.\n",
    "* 일종의 \"blueprint\" 역할\n",
    "\n",
    "## Class 정의 example"
   ]
  },
  {
   "cell_type": "code",
   "execution_count": 5,
   "metadata": {},
   "outputs": [],
   "source": [
    "class example(object):\n",
    "    pass"
   ]
  },
  {
   "cell_type": "markdown",
   "metadata": {},
   "source": [
    "python에서 많이 사용되는 'pass' 라는 키워드는 실행할 것이 없다는 것을 의미한다."
   ]
  },
  {
   "cell_type": "code",
   "execution_count": 2,
   "metadata": {},
   "outputs": [],
   "source": [
    "# Class example\n",
    "class Customer(object): # 클래스를 정의\n",
    "    '''\n",
    "    OOP는 우리의 real world 문제를 푸는데 효과적이다.\n",
    "    '''\n",
    "    def __init__(self, name, balance=0.0): \n",
    "        self.name = name\n",
    "        self.balance= balance\n",
    "        \n",
    "    def withdraw(self, amount):\n",
    "        if amount > self.balace:\n",
    "            raise RuntimeError('잔고가 없네요.')\n",
    "        self.balance -= amount\n",
    "        return self.balace\n",
    "    \n",
    "    def deposit(self, amount):\n",
    "        self.balance +=amount\n",
    "        return self.balance\n",
    "    "
   ]
  },
  {
   "cell_type": "markdown",
   "metadata": {},
   "source": [
    "## Class Instantiation\n",
    "\n",
    "* \"class Customet(object):\" 라고 쓰인 line은 클래스(설계도,blueprint)를 단지 정의하는 것이다. (객체를 생성하는 것이 아니다.)\n",
    "\n",
    "* Java나 C++에서의 생성자와 비슷한 method로 '__init__' method라고 하는 것은 객체가 생성될 때 자동으로 호출되는 method를 의미한다.\n",
    "* 'def __init__(self, name, balence=0.0):' 과 같은 표현을 사용하여 default 인자를 넣을 수도 있다.\n",
    "\n",
    "## 객체의 생성은 다음과 같다"
   ]
  },
  {
   "cell_type": "code",
   "execution_count": 3,
   "metadata": {},
   "outputs": [
    {
     "name": "stdout",
     "output_type": "stream",
     "text": [
      "Person's name is Kim and Balance is 100.0\n",
      "Park\n"
     ]
    }
   ],
   "source": [
    "# 객체의 생성\n",
    "Person = Customer(\"Kim\",100.0)\n",
    "print(\"Person's name is {0} and Balance is {1}\".format(Person.name, Person.balance))\n",
    "Person.name = \"Park\"\n",
    "print(Person.name)"
   ]
  },
  {
   "cell_type": "markdown",
   "metadata": {},
   "source": [
    "## Instance Methods\n",
    "\n",
    "* 일반적으로 Class 안에 정의되는 함수를 'method' 라고 부른다.\n",
    "\n",
    "* method는 객체의 instance 안에 포함된 모든 데이터에 접근할 수 있다.\n",
    "\n",
    "* Python에서는 self라는 키워드를 사용하여 변수에 접근한다. (self는 this와 비슷하다.)\n",
    "\n",
    "## Static Methods\n",
    "\n",
    "* 정적 메소드라고 불리는 이 메소드는 self로 접근할 필요가 없으며 인스턴스 생성 없이도 동작이 가능하다. "
   ]
  },
  {
   "cell_type": "code",
   "execution_count": 4,
   "metadata": {},
   "outputs": [
    {
     "name": "stdout",
     "output_type": "stream",
     "text": [
      "인스턴스 생성 한 걸로 :  4\n",
      "인스턴스 생성 없이 :  4\n",
      "\n",
      "instance로 접근하여 변경\n",
      "인스턴스 생성 한 걸로 :  5\n",
      "인스턴스 생성 없이 :  4\n",
      "\n",
      "객체로 접근하여 변경\n",
      "인스턴스 생성 한 걸로 :  5\n",
      "인스턴스 생성 없이 :  6\n"
     ]
    }
   ],
   "source": [
    "class Car(object):\n",
    "    \n",
    "    wheels = 4\n",
    "    \n",
    "    def __init__(self, make, model):\n",
    "        self.make = make\n",
    "        self.model= model\n",
    "        \n",
    "mustang = Car('Ford', 'Mustang')\n",
    "print(\"인스턴스 생성 한 걸로 : \",mustang.wheels)\n",
    "print(\"인스턴스 생성 없이 : \",Car.wheels)\n",
    "\n",
    "# instance로 접근하여 변경 \n",
    "print(\"\\ninstance로 접근하여 변경\")\n",
    "mustang.wheels = 5\n",
    "print(\"인스턴스 생성 한 걸로 : \",mustang.wheels)\n",
    "print(\"인스턴스 생성 없이 : \",Car.wheels)\n",
    "\n",
    "# 객체로 접근하여 변경\n",
    "print(\"\\n객체로 접근하여 변경\")\n",
    "Car.wheels=6\n",
    "print(\"인스턴스 생성 한 걸로 : \",mustang.wheels)\n",
    "print(\"인스턴스 생성 없이 : \",Car.wheels)\n"
   ]
  }
 ],
 "metadata": {
  "kernelspec": {
   "display_name": "Python 3",
   "language": "python",
   "name": "python3"
  },
  "language_info": {
   "codemirror_mode": {
    "name": "ipython",
    "version": 3
   },
   "file_extension": ".py",
   "mimetype": "text/x-python",
   "name": "python",
   "nbconvert_exporter": "python",
   "pygments_lexer": "ipython3",
   "version": "3.6.5"
  }
 },
 "nbformat": 4,
 "nbformat_minor": 2
}
