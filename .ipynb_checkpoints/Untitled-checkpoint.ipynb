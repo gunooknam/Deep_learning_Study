{
 "cells": [
  {
   "cell_type": "code",
   "execution_count": 2,
   "metadata": {},
   "outputs": [],
   "source": [
    "import numpy as np\n",
    "import matplotlib.pyplot as plt\n",
    "import csv\n",
    "\n",
    "X = [] # 배열 형태로 선언, X는 attribute\n",
    "Y = [] # 배열 형태로 선언, Y는 label"
   ]
  },
  {
   "cell_type": "code",
   "execution_count": 4,
   "metadata": {},
   "outputs": [],
   "source": [
    "# dataset open\n",
    "f= open(\"X.csv\", 'r');\n",
    "csvReader = csv.reader(f)\n",
    "for row in csvReader:\n",
    "    X.append(row) #csvReader 로 데이터를 2차원 배열형태로 받고 row에 한행씩 저장된다.\n",
    "\n",
    "f = open(\"Y.csv\",\"r\")\n",
    "csvReader = csv.reader(f)\n",
    "for row in csvReader:\n",
    "    Y.append(row) # 마찬가지로 row 형태로 Y 배열에 한 row씩 저장\n",
    "    \n",
    "f.close()"
   ]
  },
  {
   "cell_type": "code",
   "execution_count": null,
   "metadata": {},
   "outputs": [],
   "source": []
  }
 ],
 "metadata": {
  "kernelspec": {
   "display_name": "Python 3",
   "language": "python",
   "name": "python3"
  },
  "language_info": {
   "codemirror_mode": {
    "name": "ipython",
    "version": 3
   },
   "file_extension": ".py",
   "mimetype": "text/x-python",
   "name": "python",
   "nbconvert_exporter": "python",
   "pygments_lexer": "ipython3",
   "version": "3.6.5"
  }
 },
 "nbformat": 4,
 "nbformat_minor": 2
}
