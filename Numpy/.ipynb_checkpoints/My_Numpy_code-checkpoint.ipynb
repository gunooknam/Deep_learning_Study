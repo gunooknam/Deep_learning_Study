{
 "cells": [
  {
   "cell_type": "markdown",
   "metadata": {},
   "source": [
    "# 가끔씩 쓸만한 Numpy의 잡기술과 애매한 것들 모음\n",
    "* 생각나는 대로 계속 계속 추가할 예정"
   ]
  },
  {
   "cell_type": "markdown",
   "metadata": {},
   "source": [
    "* Accuracy 구할 때 \n",
    " * 데이터 셋의 True값과 내가 구한 예측값의 정확도를 측정하려고 한다."
   ]
  },
  {
   "cell_type": "code",
   "execution_count": 1,
   "metadata": {},
   "outputs": [],
   "source": [
    "import numpy as np"
   ]
  },
  {
   "cell_type": "code",
   "execution_count": 20,
   "metadata": {},
   "outputs": [
    {
     "name": "stdout",
     "output_type": "stream",
     "text": [
      "[0 1 3 0 1 2]\n",
      "[0 0 3 0 1 2]\n",
      "accuracy is  0.8333333333333334\n",
      "accuracy is  0.8333333333333334\n"
     ]
    }
   ],
   "source": [
    "# True Label 값\n",
    "Y= np.array([0,\n",
    "             1,\n",
    "             3,\n",
    "             0,\n",
    "             1,\n",
    "             2])\n",
    "\n",
    "# 나의 Model로 인한 예측치\n",
    "Y_Pred = [[1,0,0,0],\n",
    "          [1,0,0,0],\n",
    "          [0,0,0,1],\n",
    "          [1,0,0,0],\n",
    "          [0,1,0,0],\n",
    "          [0,0,1,0]]\n",
    "\n",
    "Y_Pred_argmax = np.argmax( Y_Pred, axis=1)\n",
    "\n",
    "print(Y)\n",
    "print(Y_Pred_argmax)\n",
    "\n",
    "# 1.\n",
    "print(\"accuracy is \", np.mean(Y==Y_Pred_argmax))\n",
    "\n",
    "# 2.\n",
    "print(\"accuracy is \", np.sum(Y==Y_Pred_argmax)/Y.shape[0])"
   ]
  },
  {
   "cell_type": "markdown",
   "metadata": {},
   "source": [
    "* Axis에 대해서... axis는 축이다.\n",
    "* 이 부분은 numpy 다룰 때 매우 헷갈리는 부분 중의 하나임"
   ]
  },
  {
   "cell_type": "code",
   "execution_count": 60,
   "metadata": {},
   "outputs": [
    {
     "data": {
      "text/plain": [
       "1"
      ]
     },
     "execution_count": 60,
     "metadata": {},
     "output_type": "execute_result"
    }
   ],
   "source": [
    "tmp_1d=np.array([1,2,3,4])\n",
    "tmp_1d.shape\n",
    "tmp_1d.ndim # 몇 차원 배열인지 알려준다."
   ]
  },
  {
   "cell_type": "code",
   "execution_count": 61,
   "metadata": {},
   "outputs": [
    {
     "data": {
      "text/plain": [
       "10"
      ]
     },
     "execution_count": 61,
     "metadata": {},
     "output_type": "execute_result"
    }
   ],
   "source": [
    "c=np.sum(tmp_1d) \n",
    "c"
   ]
  },
  {
   "cell_type": "markdown",
   "metadata": {},
   "source": [
    "## sum과 같은 연산을 해버리면 기본적으로 차원이 날라간다.\n",
    "1차원만 연산하면 상관이 없는데 2차, 3차, 4차원 연산을 할 때 어떻게 연산을 할 것인가에 대해 정의해줄 수 있다.\n",
    "\n",
    "그래서 axis라는 인자를 넣어줘서 연산에 대한 방향을 정한다."
   ]
  },
  {
   "cell_type": "code",
   "execution_count": 57,
   "metadata": {},
   "outputs": [
    {
     "data": {
      "text/plain": [
       "2"
      ]
     },
     "execution_count": 57,
     "metadata": {},
     "output_type": "execute_result"
    }
   ],
   "source": [
    "tmp_2d=np.array([[1,2,3,4],\n",
    "                 [4,5,6,7],\n",
    "                 [6,7,8,9]])\n",
    "tmp_2d.ndim"
   ]
  },
  {
   "cell_type": "code",
   "execution_count": 62,
   "metadata": {},
   "outputs": [
    {
     "data": {
      "text/plain": [
       "array([10, 22, 30])"
      ]
     },
     "execution_count": 62,
     "metadata": {},
     "output_type": "execute_result"
    }
   ],
   "source": [
    "np.sum(tmp_2d,axis=1) # axis를 1로 해줬는데 가장 안쪽 [ ]의 값이 다 더해지고 차원 하나가 날라갔다."
   ]
  },
  {
   "cell_type": "code",
   "execution_count": 30,
   "metadata": {},
   "outputs": [
    {
     "data": {
      "text/plain": [
       "array([11, 14, 17, 20])"
      ]
     },
     "execution_count": 30,
     "metadata": {},
     "output_type": "execute_result"
    }
   ],
   "source": [
    "np.sum(tmp_2d,axis=0) # 마찬자기로 차원하나는 날라갔다. 하지만 연산이 이뤄진 방향은 다르다. axis가 0이어서 '[' 한개를 건너띔"
   ]
  },
  {
   "cell_type": "markdown",
   "metadata": {},
   "source": [
    "## 가장 안쪽 [ ]의 합을 구하려면 ndim을 구하고 ndim-1의 axis로 연산을 해야한다."
   ]
  },
  {
   "cell_type": "code",
   "execution_count": 42,
   "metadata": {},
   "outputs": [
    {
     "data": {
      "text/plain": [
       "(3, 3, 2)"
      ]
     },
     "execution_count": 42,
     "metadata": {},
     "output_type": "execute_result"
    }
   ],
   "source": [
    "tmp_3d=np.array([ [ [1, 2],\n",
    "                    [4, 5],\n",
    "                    [6, 7] ]\n",
    "                 ,\n",
    "                  [ [3, 4],\n",
    "                    [5, 6],\n",
    "                    [7, 8] ]\n",
    "                 ,\n",
    "                  [ [5, 6],\n",
    "                    [7, 8],\n",
    "                    [9, 9] ] ] )\n",
    "tmp_3d.shape"
   ]
  },
  {
   "cell_type": "code",
   "execution_count": 52,
   "metadata": {},
   "outputs": [
    {
     "data": {
      "text/plain": [
       "array([[ 3,  9, 13],\n",
       "       [ 7, 11, 15],\n",
       "       [11, 15, 18]])"
      ]
     },
     "execution_count": 52,
     "metadata": {},
     "output_type": "execute_result"
    }
   ],
   "source": [
    "np.sum(tmp_3d,axis=2) # x방향"
   ]
  },
  {
   "cell_type": "code",
   "execution_count": 55,
   "metadata": {},
   "outputs": [
    {
     "data": {
      "text/plain": [
       "3"
      ]
     },
     "execution_count": 55,
     "metadata": {},
     "output_type": "execute_result"
    }
   ],
   "source": [
    "tmp_3d.ndim"
   ]
  },
  {
   "cell_type": "code",
   "execution_count": 53,
   "metadata": {},
   "outputs": [
    {
     "data": {
      "text/plain": [
       "array([[11, 14],\n",
       "       [15, 18],\n",
       "       [21, 23]])"
      ]
     },
     "execution_count": 53,
     "metadata": {},
     "output_type": "execute_result"
    }
   ],
   "source": [
    "np.sum(tmp_3d,axis=1) # y 방향"
   ]
  },
  {
   "cell_type": "code",
   "execution_count": 63,
   "metadata": {},
   "outputs": [
    {
     "data": {
      "text/plain": [
       "array([[ 9, 12],\n",
       "       [16, 19],\n",
       "       [22, 24]])"
      ]
     },
     "execution_count": 63,
     "metadata": {},
     "output_type": "execute_result"
    }
   ],
   "source": [
    "np.sum(tmp_3d,axis=0) # [ 를 2개를 건너뛰어서 연산한다. z 방향"
   ]
  },
  {
   "cell_type": "markdown",
   "metadata": {},
   "source": [
    "## Shape 다듬기\n",
    "\n",
    "data의 모양을 원하는 대로 만드는 것은 매우 중요하다. 이미지는 (width,height,channel) 이러한 포맷으로 들어있는 경우가 많다.\n",
    "\n",
    "혹은 (channel, width, height) 이러한 포맷으로 들어있는 경우도 많았다. \n",
    "\n",
    "이러한 data의 배열은 (N개 , width*height*channel) 이러한 식으로 reshape이 되어 layer에 인풋으로 들어가는 경우가 많다.\n",
    "\n",
    "( List 자체는 numpy와 다르게 shape을 못씀 가끔 실수하는 경우 있음. )"
   ]
  },
  {
   "cell_type": "code",
   "execution_count": 100,
   "metadata": {},
   "outputs": [],
   "source": [
    "X = np.random.rand(32,32,3)"
   ]
  },
  {
   "cell_type": "markdown",
   "metadata": {},
   "source": [
    "## 1D matrix로 쭉 피기"
   ]
  },
  {
   "cell_type": "code",
   "execution_count": 101,
   "metadata": {},
   "outputs": [
    {
     "name": "stdout",
     "output_type": "stream",
     "text": [
      "(1, 3072)\n"
     ]
    }
   ],
   "source": [
    "X_1D = X.reshape(1,-1)\n",
    "print(X_1D.shape)"
   ]
  },
  {
   "cell_type": "code",
   "execution_count": 102,
   "metadata": {},
   "outputs": [
    {
     "name": "stdout",
     "output_type": "stream",
     "text": [
      "X_input을 배열로 만든다면 길이 :  100\n",
      "X_input을 numpy객체로 만든다면 :  (100, 3072)\n"
     ]
    }
   ],
   "source": [
    "N = 100 # 데이터 셋이 100개라면\n",
    "\n",
    "Total = []\n",
    "\n",
    "for i in range(N):\n",
    "   Total.append(X_1D)\n",
    "\n",
    "print(\"X_input을 배열로 만든다면 길이 : \" ,len(Total))\n",
    "\n",
    "result = X_1D\n",
    "for i in range(N-1):\n",
    "   result=np.vstack((result,X_1D)) \n",
    "# vertical로 쌓임 horizontal로 쌓으면 [ ]안으로 다 값이 넣어진다.\n",
    "    \n",
    "print(\"X_input을 numpy객체로 만든다면 : \" ,result.shape)"
   ]
  },
  {
   "cell_type": "markdown",
   "metadata": {},
   "source": [
    "## 비슷한 함수로 concatenate도 있다.\n",
    "이걸 쓰려면 대신 axis를 항상 생각을 해줘야함...."
   ]
  },
  {
   "cell_type": "code",
   "execution_count": 123,
   "metadata": {},
   "outputs": [
    {
     "name": "stdout",
     "output_type": "stream",
     "text": [
      "c is : \n",
      " [[ 1  5  9]\n",
      " [ 2  6 10]\n",
      " [ 3  7 11]\n",
      " [ 4  8 12]]\n",
      "--------------------\n",
      "d is : \n",
      " [[ 1  5  9  3  7 11]\n",
      " [ 2  6 10  4  8 12]]\n"
     ]
    }
   ],
   "source": [
    "a = np.array([[1,5,9],[2,6,10]])\n",
    "b = np.array([[3,7,11],[4,8,12]])\n",
    "\n",
    "c = np.concatenate((a,b),axis=0)\n",
    "d = np.concatenate((a,b),axis=1)\n",
    "print(\"c is : \\n\",c)\n",
    "print(\"--------------------\")\n",
    "print(\"d is : \\n\",d)"
   ]
  },
  {
   "cell_type": "markdown",
   "metadata": {},
   "source": [
    "## Numpy에서 Transpose 할 때 \n",
    "\n",
    "기본적으로 numpy객체.T해서 transpose 가능 그런데 원하는 모형으로 tranpose 하려면 \n",
    "\n",
    "객체.transpose(2,1,0) 과 같이 0,1,2 순을 원하는 순서로 바꾸면 된다.\n"
   ]
  },
  {
   "cell_type": "code",
   "execution_count": 113,
   "metadata": {},
   "outputs": [
    {
     "name": "stdout",
     "output_type": "stream",
     "text": [
      "(32, 32, 3)\n",
      "(3, 32, 32)\n"
     ]
    }
   ],
   "source": [
    "X2 = np.random.rand(3,32,32)\n",
    "\n",
    "X2_trans = X2.transpose(2,1,0)\n",
    "\n",
    "print(X2_trans.shape) # 이런식으로 shape을 바꿀 수도 있다.\n",
    "print(X2_trans.T.shape)"
   ]
  }
 ],
 "metadata": {
  "kernelspec": {
   "display_name": "Python 3",
   "language": "python",
   "name": "python3"
  },
  "language_info": {
   "codemirror_mode": {
    "name": "ipython",
    "version": 3
   },
   "file_extension": ".py",
   "mimetype": "text/x-python",
   "name": "python",
   "nbconvert_exporter": "python",
   "pygments_lexer": "ipython3",
   "version": "3.6.5"
  }
 },
 "nbformat": 4,
 "nbformat_minor": 2
}
