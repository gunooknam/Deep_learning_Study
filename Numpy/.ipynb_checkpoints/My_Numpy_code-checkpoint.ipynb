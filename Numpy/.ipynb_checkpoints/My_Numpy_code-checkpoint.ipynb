{
 "cells": [
  {
   "cell_type": "markdown",
   "metadata": {},
   "source": [
    "# 가끔씩 쓸만한 Numpy의 잡기술과 애매한 것들 모음\n",
    "* 생각나는 대로 계속 계속 추가할 예정"
   ]
  },
  {
   "cell_type": "markdown",
   "metadata": {},
   "source": [
    "* Accuracy 구할 때 \n",
    " * 데이터 셋의 True값과 내가 구한 예측값의 정확도를 측정하려고 한다."
   ]
  },
  {
   "cell_type": "code",
   "execution_count": 1,
   "metadata": {},
   "outputs": [],
   "source": [
    "import numpy as np"
   ]
  },
  {
   "cell_type": "code",
   "execution_count": 2,
   "metadata": {},
   "outputs": [
    {
     "name": "stdout",
     "output_type": "stream",
     "text": [
      "[0 1 3 0 1 2]\n",
      "[0 0 3 0 1 2]\n",
      "accuracy is  0.8333333333333334\n",
      "accuracy is  0.8333333333333334\n"
     ]
    }
   ],
   "source": [
    "# True Label 값\n",
    "Y= np.array([0,\n",
    "             1,\n",
    "             3,\n",
    "             0,\n",
    "             1,\n",
    "             2])\n",
    "\n",
    "# 나의 Model로 인한 예측치\n",
    "Y_Pred = [[1,0,0,0],\n",
    "          [1,0,0,0],\n",
    "          [0,0,0,1],\n",
    "          [1,0,0,0],\n",
    "          [0,1,0,0],\n",
    "          [0,0,1,0]]\n",
    "\n",
    "Y_Pred_argmax = np.argmax( Y_Pred, axis=1)\n",
    "\n",
    "print(Y)\n",
    "print(Y_Pred_argmax)\n",
    "\n",
    "# 1.\n",
    "print(\"accuracy is \", np.mean(Y==Y_Pred_argmax))\n",
    "\n",
    "# 2.\n",
    "print(\"accuracy is \", np.sum(Y==Y_Pred_argmax)/Y.shape[0])"
   ]
  },
  {
   "cell_type": "markdown",
   "metadata": {},
   "source": [
    "* Axis에 대해서... axis는 축이다.\n",
    "* 이 부분은 numpy 다룰 때 매우 헷갈리는 부분 중의 하나임"
   ]
  },
  {
   "cell_type": "code",
   "execution_count": 3,
   "metadata": {},
   "outputs": [
    {
     "data": {
      "text/plain": [
       "1"
      ]
     },
     "execution_count": 3,
     "metadata": {},
     "output_type": "execute_result"
    }
   ],
   "source": [
    "tmp_1d=np.array([1,2,3,4])\n",
    "tmp_1d.shape\n",
    "tmp_1d.ndim # 몇 차원 배열인지 알려준다."
   ]
  },
  {
   "cell_type": "code",
   "execution_count": 4,
   "metadata": {},
   "outputs": [
    {
     "data": {
      "text/plain": [
       "10"
      ]
     },
     "execution_count": 4,
     "metadata": {},
     "output_type": "execute_result"
    }
   ],
   "source": [
    "c=np.sum(tmp_1d) \n",
    "c"
   ]
  },
  {
   "cell_type": "markdown",
   "metadata": {},
   "source": [
    "## sum과 같은 연산을 해버리면 기본적으로 차원이 날라간다.\n",
    "1차원만 연산하면 상관이 없는데 2차, 3차, 4차원 연산을 할 때 어떻게 연산을 할 것인가에 대해 정의해줄 수 있다.\n",
    "\n",
    "그래서 axis라는 인자를 넣어줘서 연산에 대한 방향을 정한다."
   ]
  },
  {
   "cell_type": "code",
   "execution_count": 5,
   "metadata": {},
   "outputs": [
    {
     "data": {
      "text/plain": [
       "2"
      ]
     },
     "execution_count": 5,
     "metadata": {},
     "output_type": "execute_result"
    }
   ],
   "source": [
    "tmp_2d=np.array([[1,2,3,4],\n",
    "                 [4,5,6,7],\n",
    "                 [6,7,8,9]])\n",
    "tmp_2d.ndim"
   ]
  },
  {
   "cell_type": "code",
   "execution_count": 6,
   "metadata": {},
   "outputs": [
    {
     "data": {
      "text/plain": [
       "array([10, 22, 30])"
      ]
     },
     "execution_count": 6,
     "metadata": {},
     "output_type": "execute_result"
    }
   ],
   "source": [
    "np.sum(tmp_2d,axis=1) # axis를 1로 해줬는데 가장 안쪽 [ ]의 값이 다 더해지고 차원 하나가 날라갔다."
   ]
  },
  {
   "cell_type": "code",
   "execution_count": 7,
   "metadata": {},
   "outputs": [
    {
     "data": {
      "text/plain": [
       "array([11, 14, 17, 20])"
      ]
     },
     "execution_count": 7,
     "metadata": {},
     "output_type": "execute_result"
    }
   ],
   "source": [
    "np.sum(tmp_2d,axis=0) # 마찬자기로 차원하나는 날라갔다. 하지만 연산이 이뤄진 방향은 다르다. axis가 0이어서 '[' 한개를 건너띔"
   ]
  },
  {
   "cell_type": "markdown",
   "metadata": {},
   "source": [
    "내가 Shape의 대해서 신경을 안쓰고 싶고 그냥 엘리먼트 연산을 하고 싶다!!? \n",
    "\n",
    "그냥 -1 해줘버리면 간편하다. 굳이 높은 axis를 찾을 필요가 없다. 그리고 나서 y방향으로 하고 싶다면\n",
    "\n",
    "axis = -2 를 해준다"
   ]
  },
  {
   "cell_type": "code",
   "execution_count": 8,
   "metadata": {},
   "outputs": [
    {
     "data": {
      "text/plain": [
       "array([10, 22, 30])"
      ]
     },
     "execution_count": 8,
     "metadata": {},
     "output_type": "execute_result"
    }
   ],
   "source": [
    "np.sum(tmp_2d,axis=-1)"
   ]
  },
  {
   "cell_type": "markdown",
   "metadata": {},
   "source": [
    "## 가장 안쪽 [ ]의 합을 구하려면 ndim을 구하고 ndim-1의 axis로 연산을 해야한다."
   ]
  },
  {
   "cell_type": "code",
   "execution_count": 9,
   "metadata": {},
   "outputs": [
    {
     "data": {
      "text/plain": [
       "(3, 3, 2)"
      ]
     },
     "execution_count": 9,
     "metadata": {},
     "output_type": "execute_result"
    }
   ],
   "source": [
    "tmp_3d=np.array([ [ [1, 2],\n",
    "                    [4, 5],\n",
    "                    [6, 7] ]\n",
    "                 ,\n",
    "                  [ [3, 4],\n",
    "                    [5, 6],\n",
    "                    [7, 8] ]\n",
    "                 ,\n",
    "                  [ [5, 6],\n",
    "                    [7, 8],\n",
    "                    [9, 9] ] ] )\n",
    "tmp_3d.shape"
   ]
  },
  {
   "cell_type": "code",
   "execution_count": 10,
   "metadata": {},
   "outputs": [
    {
     "data": {
      "text/plain": [
       "array([[ 3,  9, 13],\n",
       "       [ 7, 11, 15],\n",
       "       [11, 15, 18]])"
      ]
     },
     "execution_count": 10,
     "metadata": {},
     "output_type": "execute_result"
    }
   ],
   "source": [
    "np.sum(tmp_3d,axis=2) # x방향"
   ]
  },
  {
   "cell_type": "code",
   "execution_count": 11,
   "metadata": {},
   "outputs": [
    {
     "data": {
      "text/plain": [
       "3"
      ]
     },
     "execution_count": 11,
     "metadata": {},
     "output_type": "execute_result"
    }
   ],
   "source": [
    "tmp_3d.ndim"
   ]
  },
  {
   "cell_type": "code",
   "execution_count": 12,
   "metadata": {},
   "outputs": [
    {
     "data": {
      "text/plain": [
       "array([[11, 14],\n",
       "       [15, 18],\n",
       "       [21, 23]])"
      ]
     },
     "execution_count": 12,
     "metadata": {},
     "output_type": "execute_result"
    }
   ],
   "source": [
    "np.sum(tmp_3d,axis=1) # y 방향"
   ]
  },
  {
   "cell_type": "code",
   "execution_count": 13,
   "metadata": {},
   "outputs": [
    {
     "data": {
      "text/plain": [
       "array([[ 9, 12],\n",
       "       [16, 19],\n",
       "       [22, 24]])"
      ]
     },
     "execution_count": 13,
     "metadata": {},
     "output_type": "execute_result"
    }
   ],
   "source": [
    "np.sum(tmp_3d,axis=0) # [ 를 2개를 건너뛰어서 연산한다. z 방향"
   ]
  },
  {
   "cell_type": "markdown",
   "metadata": {},
   "source": [
    "## Shape 다듬기\n",
    "\n",
    "data의 모양을 원하는 대로 만드는 것은 매우 중요하다. 이미지는 (width,height,channel) 이러한 포맷으로 들어있는 경우가 많다.\n",
    "\n",
    "혹은 (channel, width, height) 이러한 포맷으로 들어있는 경우도 많았다. \n",
    "\n",
    "이러한 data의 배열은 (N개 , width*height*channel) 이러한 식으로 reshape이 되어 layer에 인풋으로 들어가는 경우가 많다.\n",
    "\n",
    "( List 자체는 numpy와 다르게 shape을 못씀 가끔 실수하는 경우 있음. )"
   ]
  },
  {
   "cell_type": "code",
   "execution_count": 14,
   "metadata": {},
   "outputs": [],
   "source": [
    "X = np.random.rand(32,32,3)"
   ]
  },
  {
   "cell_type": "markdown",
   "metadata": {},
   "source": [
    "## 1D matrix로 쭉 피기"
   ]
  },
  {
   "cell_type": "code",
   "execution_count": 15,
   "metadata": {},
   "outputs": [
    {
     "name": "stdout",
     "output_type": "stream",
     "text": [
      "(1, 3072)\n"
     ]
    }
   ],
   "source": [
    "X_1D = X.reshape(1,-1)\n",
    "print(X_1D.shape)"
   ]
  },
  {
   "cell_type": "code",
   "execution_count": 16,
   "metadata": {},
   "outputs": [
    {
     "name": "stdout",
     "output_type": "stream",
     "text": [
      "X_input을 배열로 만든다면 길이 :  100\n",
      "X_input을 numpy객체로 만든다면 :  (100, 3072)\n"
     ]
    }
   ],
   "source": [
    "N = 100 # 데이터 셋이 100개라면\n",
    "\n",
    "Total = []\n",
    "\n",
    "for i in range(N):\n",
    "   Total.append(X_1D)\n",
    "\n",
    "print(\"X_input을 배열로 만든다면 길이 : \" ,len(Total))\n",
    "\n",
    "result = X_1D\n",
    "for i in range(N-1):\n",
    "   result=np.vstack((result,X_1D)) \n",
    "# vertical로 쌓임 horizontal로 쌓으면 [ ]안으로 다 값이 넣어진다.\n",
    "    \n",
    "print(\"X_input을 numpy객체로 만든다면 : \" ,result.shape)"
   ]
  },
  {
   "cell_type": "markdown",
   "metadata": {},
   "source": [
    "## 비슷한 함수로 concatenate도 있다.\n",
    "이걸 쓰려면 대신 axis를 항상 생각을 해줘야함...."
   ]
  },
  {
   "cell_type": "code",
   "execution_count": 17,
   "metadata": {},
   "outputs": [
    {
     "name": "stdout",
     "output_type": "stream",
     "text": [
      "c is : \n",
      " [[ 1  5  9]\n",
      " [ 2  6 10]\n",
      " [ 3  7 11]\n",
      " [ 4  8 12]]\n",
      "--------------------\n",
      "d is : \n",
      " [[ 1  5  9  3  7 11]\n",
      " [ 2  6 10  4  8 12]]\n"
     ]
    }
   ],
   "source": [
    "a = np.array([[1,5,9],[2,6,10]])\n",
    "b = np.array([[3,7,11],[4,8,12]])\n",
    "\n",
    "c = np.concatenate((a,b),axis=0)\n",
    "d = np.concatenate((a,b),axis=1)\n",
    "print(\"c is : \\n\",c)\n",
    "print(\"--------------------\")\n",
    "print(\"d is : \\n\",d)"
   ]
  },
  {
   "cell_type": "markdown",
   "metadata": {},
   "source": [
    "## Numpy에서 Transpose 할 때 \n",
    "\n",
    "기본적으로 numpy객체.T해서 transpose 가능 그런데 원하는 모형으로 tranpose 하려면 \n",
    "\n",
    "객체.transpose(2,1,0) 과 같이 0,1,2 순을 원하는 순서로 바꾸면 된다.\n"
   ]
  },
  {
   "cell_type": "code",
   "execution_count": 18,
   "metadata": {},
   "outputs": [
    {
     "name": "stdout",
     "output_type": "stream",
     "text": [
      "(32, 32, 3)\n",
      "(3, 32, 32)\n"
     ]
    }
   ],
   "source": [
    "X2 = np.random.rand(3,32,32)\n",
    "\n",
    "X2_trans = X2.transpose(2,1,0)\n",
    "\n",
    "print(X2_trans.shape) # 이런식으로 shape을 바꿀 수도 있다.\n",
    "print(X2_trans.T.shape)"
   ]
  },
  {
   "cell_type": "markdown",
   "metadata": {},
   "source": [
    "# Spread 의 사용\n"
   ]
  },
  {
   "cell_type": "markdown",
   "metadata": {},
   "source": [
    "아래의 3채널 이미지가 있다고 가정하자.\n",
    "1. 나는 한 채널의 데이터 셋 N개를 뽑고 싶다. 그럴 때 하는 것"
   ]
  },
  {
   "cell_type": "code",
   "execution_count": 19,
   "metadata": {},
   "outputs": [],
   "source": [
    "N=10\n",
    "t1 = np.zeros([N,28,28,3],dtype='uint8')"
   ]
  },
  {
   "cell_type": "code",
   "execution_count": 21,
   "metadata": {},
   "outputs": [
    {
     "data": {
      "text/plain": [
       "(10, 28, 28)"
      ]
     },
     "execution_count": 21,
     "metadata": {},
     "output_type": "execute_result"
    }
   ],
   "source": [
    "# 0번째 채널의 이미지가 뽑힌다.\n",
    "t1[...,0].shape"
   ]
  },
  {
   "cell_type": "markdown",
   "metadata": {},
   "source": [
    "2. 이번엔 10개의 데이터중 3채널 이미지 한개를 뽑을려고 할 때? "
   ]
  },
  {
   "cell_type": "code",
   "execution_count": 22,
   "metadata": {},
   "outputs": [
    {
     "data": {
      "text/plain": [
       "(28, 28, 3)"
      ]
     },
     "execution_count": 22,
     "metadata": {},
     "output_type": "execute_result"
    }
   ],
   "source": [
    "t1[0].shape"
   ]
  },
  {
   "cell_type": "code",
   "execution_count": 25,
   "metadata": {},
   "outputs": [
    {
     "data": {
      "text/plain": [
       "(28, 28)"
      ]
     },
     "execution_count": 25,
     "metadata": {},
     "output_type": "execute_result"
    }
   ],
   "source": [
    "# 0번째 이미지의 한개의 채널값만 딱 뽑을 수 있다.\n",
    "t1[0,...,0].shape"
   ]
  },
  {
   "cell_type": "markdown",
   "metadata": {},
   "source": [
    "# tile 연산 \n",
    "내가 가진 element를 반복하고 싶을 때 사용\n",
    "2x2 짜리가 3번 반복"
   ]
  },
  {
   "cell_type": "code",
   "execution_count": 29,
   "metadata": {},
   "outputs": [
    {
     "data": {
      "text/plain": [
       "array([[3, 4, 3, 4, 3, 4],\n",
       "       [5, 6, 5, 6, 5, 6]])"
      ]
     },
     "execution_count": 29,
     "metadata": {},
     "output_type": "execute_result"
    }
   ],
   "source": [
    "t2 = np.array([[3,4], [5,6]])\n",
    "np.tile(t2,3)"
   ]
  },
  {
   "cell_type": "markdown",
   "metadata": {},
   "source": [
    "가로축, 세로축으로도 반복이 가능하다."
   ]
  },
  {
   "cell_type": "code",
   "execution_count": 34,
   "metadata": {},
   "outputs": [
    {
     "data": {
      "text/plain": [
       "array([[0, 1, 0, 1, 0, 1, 0, 1],\n",
       "       [1, 0, 1, 0, 1, 0, 1, 0],\n",
       "       [0, 1, 0, 1, 0, 1, 0, 1],\n",
       "       [1, 0, 1, 0, 1, 0, 1, 0],\n",
       "       [0, 1, 0, 1, 0, 1, 0, 1],\n",
       "       [1, 0, 1, 0, 1, 0, 1, 0],\n",
       "       [0, 1, 0, 1, 0, 1, 0, 1],\n",
       "       [1, 0, 1, 0, 1, 0, 1, 0]])"
      ]
     },
     "execution_count": 34,
     "metadata": {},
     "output_type": "execute_result"
    }
   ],
   "source": [
    "t3=np.tile(np.array(([ [0,1],\n",
    "                      [1,0] ])), (4, 4))\n",
    "t3"
   ]
  },
  {
   "cell_type": "code",
   "execution_count": 35,
   "metadata": {},
   "outputs": [
    {
     "data": {
      "text/plain": [
       "(5, 5, 2)"
      ]
     },
     "execution_count": 35,
     "metadata": {},
     "output_type": "execute_result"
    }
   ],
   "source": [
    "cell_size = 5\n",
    "box_per_cell=2\n",
    "t=np.transpose(np.reshape(np.array([np.arange(cell_size)]*cell_size*box_per_cell),(box_per_cell, cell_size, cell_size)),(1,2,0))\n",
    "t.shape"
   ]
  },
  {
   "cell_type": "code",
   "execution_count": 36,
   "metadata": {},
   "outputs": [
    {
     "data": {
      "text/plain": [
       "array([[0, 1, 2, 3, 4],\n",
       "       [0, 1, 2, 3, 4],\n",
       "       [0, 1, 2, 3, 4],\n",
       "       [0, 1, 2, 3, 4],\n",
       "       [0, 1, 2, 3, 4]])"
      ]
     },
     "execution_count": 36,
     "metadata": {},
     "output_type": "execute_result"
    }
   ],
   "source": [
    "t[...,0]"
   ]
  }
 ],
 "metadata": {
  "kernelspec": {
   "display_name": "Python 3",
   "language": "python",
   "name": "python3"
  },
  "language_info": {
   "codemirror_mode": {
    "name": "ipython",
    "version": 3
   },
   "file_extension": ".py",
   "mimetype": "text/x-python",
   "name": "python",
   "nbconvert_exporter": "python",
   "pygments_lexer": "ipython3",
   "version": "3.6.5"
  }
 },
 "nbformat": 4,
 "nbformat_minor": 2
}
