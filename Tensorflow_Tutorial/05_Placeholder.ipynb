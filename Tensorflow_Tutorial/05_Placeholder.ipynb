{
 "cells": [
  {
   "cell_type": "markdown",
   "metadata": {},
   "source": [
    "# tf.placeholder\n",
    "* tf.Session() 을 실행 할 때 외부에서 값을 넣어줌\n",
    "* 학습데이터 또는 추론(inference) 할 때의 개별 데이터처럼 그래프 외부에서 값을 넣어주는 형태로 만들 필요가 있을 때 유용한데... \n",
    "\n",
    "\n",
    "구체적으로 무엇이냐면 우리는 전체의 input을 메모리에 올리는 방식보다는 batch size로 소량의 메모리를 잡고 거기에 데이터를 올리고 또 다른 배치의 데이터들을 올리고를 반복한다.\n"
   ]
  }
 ],
 "metadata": {
  "kernelspec": {
   "display_name": "Python 3",
   "language": "python",
   "name": "python3"
  },
  "language_info": {
   "codemirror_mode": {
    "name": "ipython",
    "version": 3
   },
   "file_extension": ".py",
   "mimetype": "text/x-python",
   "name": "python",
   "nbconvert_exporter": "python",
   "pygments_lexer": "ipython3",
   "version": "3.6.5"
  }
 },
 "nbformat": 4,
 "nbformat_minor": 2
}
