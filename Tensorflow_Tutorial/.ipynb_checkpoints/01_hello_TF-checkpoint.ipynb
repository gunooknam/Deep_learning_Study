{
 "cells": [
  {
   "cell_type": "markdown",
   "metadata": {},
   "source": [
    "# TensorFlow import"
   ]
  },
  {
   "cell_type": "code",
   "execution_count": 1,
   "metadata": {},
   "outputs": [
    {
     "name": "stdout",
     "output_type": "stream",
     "text": [
      "TensorFlow version: 1.9.0\n"
     ]
    }
   ],
   "source": [
    "import tensorflow as tf\n",
    "print(\"TensorFlow version: {}\".format(tf.VERSION))"
   ]
  },
  {
   "cell_type": "markdown",
   "metadata": {},
   "source": [
    "## Tensorflow Execution Style\n",
    "* Eager execution\n",
    " * 변수값을 바로 확인할 수 있으며, 마치 numpy 짜듯이 짠다.\n",
    "* Graph execution\n",
    " * Tensorflow의 초창기 구현 방법\n",
    " * Graph 구성과 실행(Session)하는 부분으로 분리가 된다.\n",
    "  * Phase1: Graph 구성\n",
    "  * Phase2: Session Run\n",
    " "
   ]
  },
  {
   "cell_type": "markdown",
   "metadata": {},
   "source": [
    "# Graph 생성\n",
    "* 변수를 그래프 안에다가 생성하고 그것에 대한 연산을 정의하는 단계이다.\n",
    "* 이 단계에서는 계산을 하더라도 계산된 값이 나오지 않고 텐서가 나온다."
   ]
  },
  {
   "cell_type": "markdown",
   "metadata": {},
   "source": [
    "## Tensor란 무엇인가?\n",
    "* An n-dimensional array이다.\n",
    " * 0-d tensor: scalar (number)\n",
    " * 1-d tensor: vector\n",
    " * 2-d tensor: matrix\n",
    "...."
   ]
  },
  {
   "cell_type": "markdown",
   "metadata": {},
   "source": [
    "<img src=\"https://github.com/modulabs/modu-tensorflow/raw/41c0e899d1b65075320adae03b2732734665d9fb/figures/TF_graph.png\" width=\"40%\">"
   ]
  },
  {
   "cell_type": "code",
   "execution_count": 2,
   "metadata": {},
   "outputs": [],
   "source": [
    "test = tf.add(5,6) # 이 경우 자동으로 5와 6에 naming이 된다."
   ]
  },
  {
   "cell_type": "code",
   "execution_count": 3,
   "metadata": {},
   "outputs": [
    {
     "name": "stdout",
     "output_type": "stream",
     "text": [
      "Tensor(\"Add:0\", shape=(), dtype=int32)\n"
     ]
    }
   ],
   "source": [
    "print(test)"
   ]
  },
  {
   "cell_type": "markdown",
   "metadata": {},
   "source": [
    "### 다음과 같은 표현을 한다.\n",
    "Node: Operators, Variable, and Constant <br>\n",
    "Edge: tensors.....<br>\n",
    "Tensors 는 데이터이다."
   ]
  },
  {
   "attachments": {},
   "cell_type": "markdown",
   "metadata": {},
   "source": [
    "<img src=\"https://github.com/modulabs/modu-tensorflow/raw/41c0e899d1b65075320adae03b2732734665d9fb/figures/TF_add1.png\" width=\"40%\">"
   ]
  },
  {
   "cell_type": "markdown",
   "metadata": {},
   "source": [
    "# Session 실행하기\n",
    "* 위의 과정은 단지 그래프의 형태만 만들어놓은 상태이다.\n",
    "* 실제 그래프의 계산은 tf.Session()이라는 것을 실행하여 계산한다.\n",
    "* 마치 파이프에 물이 흐르듯이 정의한 그래프의 연산을 수행한다.\n",
    "* 그래서 Tensorflow는 tensor가 flow한다해서 Tensorflow!!\n",
    "* tf.Session()을 열면 TF default로 GPU 메모리를 다 잡아버리므로\n",
    " * 이것을 방지하기 위해서 gpu_options를 준다.\n",
    "\n",
    "\n",
    "### allow_growth 옵션이란?\n",
    "* 기본적으로 TensorFlow는 GPU를 쓸 때 거의 대부분의 GPU 메모리를 할당하는데 이것은 디바이스 메모리 단편화를 방지해서 메모리를 효율적으로 쓰게 하는 것을 위함이다.\n",
    "* 그런데 때로는 필요한 만큼의 메모리만 할당하는 것이 유용할 때가 있는 데 그것을 가능하게 하는 것이 allow_growth 옵션이다. 이러한 옵션으로 처음에는 매우 작은 메모리만 할당하다가 세션이 실행되면서 더 많은 GPU 메모리 할당이 필요해지면 Tensorflow는 필요한 메모리 영역을 증가시켜 추가로 할당한다.\n",
    "* 옵션은 tf.ConfigProto로 설정한다.\n",
    "\n",
    "https://tensorflowkorea.gitbooks.io/tensorflow-kr/content/g3doc/how_tos/using_gpu/"
   ]
  },
  {
   "cell_type": "markdown",
   "metadata": {},
   "source": [
    "<img src=\"https://github.com/modulabs/modu-tensorflow/raw/41c0e899d1b65075320adae03b2732734665d9fb/figures/TF_add2.png\" width=\"40%\">"
   ]
  },
  {
   "cell_type": "code",
   "execution_count": 4,
   "metadata": {},
   "outputs": [
    {
     "name": "stdout",
     "output_type": "stream",
     "text": [
      "8\n"
     ]
    }
   ],
   "source": [
    "sess_config = tf.ConfigProto(gpu_options=tf.GPUOptions(allow_growth=True))\n",
    "a = tf.add(3,5)\n",
    "# sess=tf.Session()\n",
    "sess = tf.Session(config=sess_config)\n",
    "print(sess.run(a))\n",
    "sess.close() # session을 열면 sess.close()를 해서 명시적으로 닫아줘야 한다."
   ]
  },
  {
   "cell_type": "markdown",
   "metadata": {},
   "source": [
    "<img src=\"\" width=>"
   ]
  },
  {
   "cell_type": "markdown",
   "metadata": {},
   "source": [
    "# with 구문으로 처리해버리기\n",
    "* with 구문을 사용하면 close하는 작업을 하지 않아도 된다."
   ]
  },
  {
   "cell_type": "code",
   "execution_count": 5,
   "metadata": {},
   "outputs": [
    {
     "name": "stdout",
     "output_type": "stream",
     "text": [
      "11\n"
     ]
    }
   ],
   "source": [
    "sess_config = tf.ConfigProto(gpu_options=tf.GPUOptions(allow_growth=True))\n",
    "a = tf.add(5,6)\n",
    "# sess=tf.Session()\n",
    "with tf.Session(config=sess_config) as sess:\n",
    "    print(sess.run(a))\n",
    "# close를 지알아서 해준다."
   ]
  },
  {
   "cell_type": "markdown",
   "metadata": {},
   "source": [
    "# 구문 안에서는 sess.run()대신 eval() method를 쓸 수 있다"
   ]
  },
  {
   "cell_type": "code",
   "execution_count": 6,
   "metadata": {},
   "outputs": [
    {
     "name": "stdout",
     "output_type": "stream",
     "text": [
      "11\n"
     ]
    }
   ],
   "source": [
    "with tf.Session(config=sess_config) as sess:\n",
    "      print(a.eval())"
   ]
  },
  {
   "cell_type": "markdown",
   "metadata": {},
   "source": [
    "# tf.InteractiveSession()\n",
    "* with 구문이 없어도 그래프 실행시킬 수 있다."
   ]
  },
  {
   "cell_type": "code",
   "execution_count": 7,
   "metadata": {},
   "outputs": [
    {
     "name": "stdout",
     "output_type": "stream",
     "text": [
      "11\n"
     ]
    }
   ],
   "source": [
    "sess = tf.InteractiveSession(config=sess_config)\n",
    "print(a.eval())"
   ]
  },
  {
   "cell_type": "markdown",
   "metadata": {},
   "source": [
    "# 조금 더 복잡한 그래프의 계산"
   ]
  },
  {
   "cell_type": "code",
   "execution_count": 8,
   "metadata": {},
   "outputs": [
    {
     "name": "stdout",
     "output_type": "stream",
     "text": [
      "Tensor(\"Pow:0\", shape=(), dtype=int32)\n",
      "7776\n"
     ]
    }
   ],
   "source": [
    "x = 2\n",
    "y = 3\n",
    "w = tf.add(x, y)\n",
    "z = tf.multiply(x, y)\n",
    "p = tf.pow(z, w)\n",
    "print(p)\n",
    "with tf.Session(config=sess_config) as sess:\n",
    "  print(sess.run(p))"
   ]
  },
  {
   "cell_type": "markdown",
   "metadata": {},
   "source": [
    "<img src=\"https://github.com/modulabs/modu-tensorflow/raw/41c0e899d1b65075320adae03b2732734665d9fb/figures/TF_more_calculation.png\" width=\"40%\">"
   ]
  },
  {
   "cell_type": "markdown",
   "metadata": {},
   "source": [
    "# Subgraphs\n",
    "* tf.Session.run(fetchs, feed_dict=None,options=None, run_metadata=None )"
   ]
  },
  {
   "cell_type": "code",
   "execution_count": 9,
   "metadata": {},
   "outputs": [
    {
     "name": "stdout",
     "output_type": "stream",
     "text": [
      "15625 10\n"
     ]
    }
   ],
   "source": [
    "x = 2 \n",
    "y = 3\n",
    "add_op = tf.add(x,y) # 5\n",
    "mul_op =tf.multiply(x,y) # 6\n",
    "useless = tf.multiply(x, add_op) #10\n",
    "pow_op = tf.pow(add_op, mul_op) #5^6\n",
    "with tf.Session() as sess:\n",
    "    z, not_useless = sess.run([pow_op, useless])\n",
    "    print(z, not_useless)"
   ]
  },
  {
   "cell_type": "markdown",
   "metadata": {},
   "source": [
    "<img src=\"./img/sub.jpg\" width=\"40%\">"
   ]
  },
  {
   "cell_type": "markdown",
   "metadata": {},
   "source": [
    "## 그래프를 여러개의 GPU, CPU로 쪼갤 수 있다.\n",
    "ex) AlexNet 2개의 GPU로 학습\n",
    "* 연산과 텐서가 어떤 디바이스에 배치되었는지 알아보기 위해, 세션을 만들 때 log_device_placement 옵션을 True로 설정한다\n",
    "* tf.device('/원하는 장치:number')로 원하는 디바이스에 할당할 수 있다.\n"
   ]
  },
  {
   "cell_type": "code",
   "execution_count": 38,
   "metadata": {},
   "outputs": [
    {
     "name": "stdout",
     "output_type": "stream",
     "text": [
      "[ 1.  4.  9. 16. 25. 36.]\n"
     ]
    }
   ],
   "source": [
    "with tf.device('/cpu:0'):\n",
    "  a = tf.constant([1.0, 2.0, 3.0, 4.0, 5.0, 6.0], name='a')\n",
    "  b = tf.constant([1.0, 2.0, 3.0, 4.0, 5.0, 6.0], name='b')\n",
    "  c = tf.multiply(a, b)\n",
    "\n",
    "# Creates a session with log_device_placement set to True.\n",
    "sess = tf.Session(config=tf.ConfigProto(log_device_placement=True))\n",
    "\n",
    "# Runs the op.\n",
    "print(sess.run(c))\n"
   ]
  },
  {
   "cell_type": "markdown",
   "metadata": {},
   "source": [
    "# 우리는 하나 이상의 그래프를 만들 수 있다.\n",
    "그리고 기본으로는 default graph를 실행한다."
   ]
  },
  {
   "cell_type": "code",
   "execution_count": 23,
   "metadata": {},
   "outputs": [],
   "source": [
    "# 여기다가 뭔가의 그래프를 정의한다.\n",
    "# 우리가 실행할 그래프 .... 무언가....\n",
    "g = tf.Graph()\n",
    "with g.as_default():\n",
    "    x = tf.add(7, 8)"
   ]
  },
  {
   "cell_type": "code",
   "execution_count": 21,
   "metadata": {},
   "outputs": [
    {
     "name": "stdout",
     "output_type": "stream",
     "text": [
      "15\n"
     ]
    }
   ],
   "source": [
    "# 위에서 정의한 그래프를 실행한다.\n",
    "with tf.Session(graph=g) as sess:\n",
    "    print(sess.run(x))"
   ]
  },
  {
   "cell_type": "code",
   "execution_count": 25,
   "metadata": {},
   "outputs": [],
   "source": [
    "g = tf.get_default_graph()"
   ]
  },
  {
   "cell_type": "code",
   "execution_count": 41,
   "metadata": {},
   "outputs": [],
   "source": [
    "g1 = tf.get_default_graph()\n",
    "g2 = tf.Graph()\n",
    "# add ops to the default graph\n",
    "with g1.as_default():\n",
    "    a = tf.constant(3)\n",
    "# add ops to the user created graph\n",
    "with g2.as_default():\n",
    "    b = tf.constant(5)"
   ]
  },
  {
   "cell_type": "code",
   "execution_count": 43,
   "metadata": {},
   "outputs": [
    {
     "name": "stdout",
     "output_type": "stream",
     "text": [
      "3\n"
     ]
    }
   ],
   "source": [
    "with tf.Session(graph=g1) as sess:\n",
    "    print(sess.run(a))"
   ]
  },
  {
   "cell_type": "code",
   "execution_count": 42,
   "metadata": {},
   "outputs": [
    {
     "name": "stdout",
     "output_type": "stream",
     "text": [
      "5\n"
     ]
    }
   ],
   "source": [
    "with tf.Session(graph=g2) as sess:\n",
    "    print(sess.run(b))"
   ]
  }
 ],
 "metadata": {
  "kernelspec": {
   "display_name": "Python 3",
   "language": "python",
   "name": "python3"
  },
  "language_info": {
   "codemirror_mode": {
    "name": "ipython",
    "version": 3
   },
   "file_extension": ".py",
   "mimetype": "text/x-python",
   "name": "python",
   "nbconvert_exporter": "python",
   "pygments_lexer": "ipython3",
   "version": "3.6.5"
  }
 },
 "nbformat": 4,
 "nbformat_minor": 2
}
