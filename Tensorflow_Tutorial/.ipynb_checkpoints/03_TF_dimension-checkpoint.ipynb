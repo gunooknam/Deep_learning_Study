{
 "cells": [
  {
   "cell_type": "markdown",
   "metadata": {},
   "source": [
    "# TensorFlow Dimension"
   ]
  },
  {
   "cell_type": "code",
   "execution_count": 2,
   "metadata": {},
   "outputs": [],
   "source": [
    "import tensorflow as tf\n",
    "\n",
    "sess_config = tf.ConfigProto(gpu_options=tf.GPUOptions(allow_growth=True))"
   ]
  },
  {
   "cell_type": "markdown",
   "metadata": {},
   "source": [
    "# Dimension과 자주 쓰이는 Constant Value Tensors API\n",
    "* Constant Value Tensors\n",
    " * tf.constant\n",
    " * tf.zeros\n",
    " * tf.zeros_like\n",
    " * tf.ones\n",
    " * tf.ones_like\n",
    " * tf.fill\n",
    "* Sequences Tensors\n",
    " * tf.linspace\n",
    " * tf.range"
   ]
  },
  {
   "cell_type": "code",
   "execution_count": 9,
   "metadata": {},
   "outputs": [
    {
     "name": "stdout",
     "output_type": "stream",
     "text": [
      "Tensor(\"a_3:0\", shape=(), dtype=int32)\n"
     ]
    }
   ],
   "source": [
    "# rank 0 tensor: matrix\n",
    "a=tf.constant(3, name='a')\n",
    "print(a)"
   ]
  },
  {
   "cell_type": "code",
   "execution_count": 16,
   "metadata": {},
   "outputs": [
    {
     "name": "stdout",
     "output_type": "stream",
     "text": [
      "Tensor(\"zeros_7:0\", shape=(2,), dtype=float32)\n",
      "<bound method Tensor.eval of <tf.Tensor 'zeros_7:0' shape=(2,) dtype=float32>>\n",
      "(2,)\n"
     ]
    }
   ],
   "source": [
    "# rank 1 tensor: matrix\n",
    "b = tf.zeros([2])\n",
    "print(b)\n",
    "print(b.eval)\n",
    "print(b.shape)"
   ]
  },
  {
   "cell_type": "code",
   "execution_count": 7,
   "metadata": {},
   "outputs": [
    {
     "name": "stdout",
     "output_type": "stream",
     "text": [
      "Tensor(\"ones:0\", shape=(2, 3), dtype=float32)\n"
     ]
    }
   ],
   "source": [
    "# rank 2 tensor: matrix\n",
    "c = tf.ones([2, 3])\n",
    "print(c)"
   ]
  },
  {
   "cell_type": "code",
   "execution_count": 17,
   "metadata": {},
   "outputs": [
    {
     "name": "stdout",
     "output_type": "stream",
     "text": [
      "Tensor(\"Fill:0\", shape=(2, 3, 4), dtype=int32)\n"
     ]
    }
   ],
   "source": [
    "# rank 3 tensor: 3-tensor\n",
    "d = tf.fill([2, 3, 4], 3)\n",
    "print(d)"
   ]
  },
  {
   "cell_type": "code",
   "execution_count": 18,
   "metadata": {},
   "outputs": [
    {
     "name": "stdout",
     "output_type": "stream",
     "text": [
      "Tensor(\"ones_like:0\", shape=(2, 3, 4), dtype=int32)\n"
     ]
    }
   ],
   "source": [
    "# ones_like\n",
    "e = tf.ones_like(d)\n",
    "print(e)"
   ]
  },
  {
   "cell_type": "code",
   "execution_count": 19,
   "metadata": {},
   "outputs": [
    {
     "name": "stdout",
     "output_type": "stream",
     "text": [
      "Tensor(\"LinSpace:0\", shape=(4,), dtype=float32)\n"
     ]
    }
   ],
   "source": [
    "# linespace     1에서 5까지 4개의 점으로 나타냄\n",
    "f = tf.linspace(1.0, 5.0, 4)\n",
    "print(f)"
   ]
  },
  {
   "cell_type": "code",
   "execution_count": 21,
   "metadata": {},
   "outputs": [
    {
     "name": "stdout",
     "output_type": "stream",
     "text": [
      "()\n",
      "(2,)\n",
      "(2, 3)\n",
      "(2, 3, 4)\n",
      "(2, 3, 4)\n",
      "(4,)\n"
     ]
    }
   ],
   "source": [
    "print(a.shape)\n",
    "print(b.shape)\n",
    "print(c.shape)\n",
    "print(d.shape)\n",
    "print(e.shape)\n",
    "print(f.shape)"
   ]
  },
  {
   "cell_type": "code",
   "execution_count": 20,
   "metadata": {},
   "outputs": [
    {
     "name": "stdout",
     "output_type": "stream",
     "text": [
      "a_3:0\n",
      "zeros_7:0\n",
      "ones:0\n",
      "Fill:0\n",
      "ones_like:0\n",
      "LinSpace:0\n"
     ]
    }
   ],
   "source": [
    "print(a.name)\n",
    "print(b.name)\n",
    "print(c.name)\n",
    "print(d.name)\n",
    "print(e.name)\n",
    "print(f.name)"
   ]
  },
  {
   "cell_type": "markdown",
   "metadata": {},
   "source": [
    "# tf.Session()을 사용한 값의 출력"
   ]
  },
  {
   "cell_type": "code",
   "execution_count": 23,
   "metadata": {},
   "outputs": [
    {
     "name": "stdout",
     "output_type": "stream",
     "text": [
      "a: 3 \n",
      "\n",
      "b: [0. 0.] \n",
      "\n",
      "c: [[1. 1. 1.]\n",
      " [1. 1. 1.]] \n",
      "\n",
      "d: [[[3 3 3 3]\n",
      "  [3 3 3 3]\n",
      "  [3 3 3 3]]\n",
      "\n",
      " [[3 3 3 3]\n",
      "  [3 3 3 3]\n",
      "  [3 3 3 3]]] \n",
      "\n",
      "e: [[[1 1 1 1]\n",
      "  [1 1 1 1]\n",
      "  [1 1 1 1]]\n",
      "\n",
      " [[1 1 1 1]\n",
      "  [1 1 1 1]\n",
      "  [1 1 1 1]]] \n",
      "\n",
      "f: [1.        2.3333335 3.6666667 5.       ]\n"
     ]
    }
   ],
   "source": [
    "with tf.Session(config=sess_config) as sess:\n",
    "  print('a:', sess.run(a), '\\n')\n",
    "  print('b:', sess.run(b), '\\n')\n",
    "  print('c:', sess.run(c), '\\n')\n",
    "  print('d:', sess.run(d), '\\n')\n",
    "  print('e:', sess.run(e), '\\n')\n",
    "  print('f:', sess.run(f))"
   ]
  },
  {
   "cell_type": "markdown",
   "metadata": {},
   "source": [
    "# tf.Session()으로 여러변수를 한방에 run"
   ]
  },
  {
   "cell_type": "code",
   "execution_count": 24,
   "metadata": {},
   "outputs": [
    {
     "name": "stdout",
     "output_type": "stream",
     "text": [
      "a: 3 \n",
      "\n",
      "b: [0. 0.] \n",
      "\n",
      "c: [[1. 1. 1.]\n",
      " [1. 1. 1.]] \n",
      "\n",
      "d: [[[3 3 3 3]\n",
      "  [3 3 3 3]\n",
      "  [3 3 3 3]]\n",
      "\n",
      " [[3 3 3 3]\n",
      "  [3 3 3 3]\n",
      "  [3 3 3 3]]] \n",
      "\n",
      "e: [[[1 1 1 1]\n",
      "  [1 1 1 1]\n",
      "  [1 1 1 1]]\n",
      "\n",
      " [[1 1 1 1]\n",
      "  [1 1 1 1]\n",
      "  [1 1 1 1]]] \n",
      "\n",
      "f: [1.        2.3333335 3.6666667 5.       ]\n"
     ]
    }
   ],
   "source": [
    "with tf.Session(config=sess_config) as sess:\n",
    "  u, v, w, x, y, z = sess.run([a, b, c, d, e, f])\n",
    "  #print(u, v, w, x, y, z)\n",
    "  print('a:', u, '\\n')\n",
    "  print('b:', v, '\\n')\n",
    "  print('c:', w, '\\n')\n",
    "  print('d:', x, '\\n')\n",
    "  print('e:', y, '\\n')\n",
    "  print('f:', z)"
   ]
  },
  {
   "cell_type": "markdown",
   "metadata": {},
   "source": [
    "# 자주 쓰는 Random Tensors 들도 사용해보자\n",
    "* Random Tensors\n",
    " * tf.random_normal\n",
    " * tf.truncated_normal\n",
    " * tf.random_uniform\n",
    " * tf.random_shuffle\n",
    " * tf.random_crop\n",
    " * tf.multinomial\n",
    " * tf.random_gamma\n",
    " * tf.set_random_seed"
   ]
  },
  {
   "cell_type": "markdown",
   "metadata": {},
   "source": [
    "# set random number seed\n",
    " tf.set_random_seed를 통해 모든 random value generation function들이 매번 같은 값을 반환함 \n"
   ]
  },
  {
   "cell_type": "code",
   "execution_count": 42,
   "metadata": {},
   "outputs": [],
   "source": [
    "tf.set_random_seed(219)"
   ]
  },
  {
   "cell_type": "code",
   "execution_count": 43,
   "metadata": {},
   "outputs": [],
   "source": [
    "g = tf.random_normal([2, 3])\n",
    "h = tf.random_uniform([2, 3, 4])"
   ]
  },
  {
   "cell_type": "code",
   "execution_count": 30,
   "metadata": {},
   "outputs": [
    {
     "name": "stdout",
     "output_type": "stream",
     "text": [
      "Tensor(\"random_normal:0\", shape=(2, 3), dtype=float32)\n",
      "Tensor(\"random_uniform:0\", shape=(2, 3, 4), dtype=float32)\n",
      "(2, 3)\n",
      "(2, 3, 4)\n",
      "random_normal:0\n",
      "random_uniform:0\n"
     ]
    }
   ],
   "source": [
    "print(g)\n",
    "print(h)\n",
    "print(g.shape)\n",
    "print(h.shape)\n",
    "print(g.name)\n",
    "print(h.name)"
   ]
  },
  {
   "cell_type": "code",
   "execution_count": 44,
   "metadata": {},
   "outputs": [
    {
     "name": "stdout",
     "output_type": "stream",
     "text": [
      "g:\n",
      "[[-0.5474029   0.16860066 -0.19138713]\n",
      " [ 0.80937064  0.90680844  2.0031993 ]] \n",
      "\n",
      "f:\n",
      "[[[0.49066973 0.8445177  0.625618   0.02353036]\n",
      "  [0.9615165  0.6040765  0.74929976 0.04940248]\n",
      "  [0.16007721 0.8590865  0.38104236 0.00932372]]\n",
      "\n",
      " [[0.46310246 0.6472552  0.3261279  0.5827675 ]\n",
      "  [0.83381164 0.9522202  0.5972452  0.7934947 ]\n",
      "  [0.03279924 0.60305345 0.6514324  0.83744   ]]] \n",
      "\n"
     ]
    }
   ],
   "source": [
    "with tf.Session(config=sess_config) as sess:\n",
    "  p, q = sess.run([g, h])\n",
    "  print('g:')\n",
    "  print(p, '\\n')\n",
    "  print('f:')\n",
    "  print(q, '\\n')"
   ]
  },
  {
   "cell_type": "markdown",
   "metadata": {},
   "source": [
    "# 2D Tensor (matrix) 더하기 및 곱하기\n",
    "* 2 x 2 random matrix 생성\n",
    " * x = [ [1, 2], [3, 4] ]\n",
    " * y = [ [5, 6], [7, 8] ]\n",
    "* elementwise 더하기\n",
    "* elementwise 곱하기\n",
    "* matrix 곱하기\n"
   ]
  },
  {
   "cell_type": "code",
   "execution_count": 46,
   "metadata": {},
   "outputs": [
    {
     "name": "stdout",
     "output_type": "stream",
     "text": [
      "[[1 2]\n",
      " [3 4]]\n",
      "[[5 6]\n",
      " [7 8]]\n",
      "[[ 6  8]\n",
      " [10 12]]\n",
      "[[ 5 12]\n",
      " [21 32]]\n",
      "[[19 22]\n",
      " [43 50]]\n"
     ]
    }
   ],
   "source": [
    "# TODO\n",
    "x = tf.constant([ [1, 2], [3, 4] ])\n",
    "y = tf.constant([ [5, 6], [7, 8] ])\n",
    "# x = tf.convert_to_tensor([ [1, 2], [3, 4] ])\n",
    "# y = tf.convert_to_tensor([ [5, 6], [7, 8] ])\n",
    "# z: elementwise 더하기\n",
    "z = x + y\n",
    "# w: elementwise 곱하기\n",
    "w = x * y\n",
    "# v: matrix 곱하기\n",
    "v = tf.matmul(x, y)\n",
    "\n",
    "with tf.Session(config=sess_config) as sess:\n",
    "  print(sess.run(x))\n",
    "  print(sess.run(y))\n",
    "  print(sess.run(z))\n",
    "  print(sess.run(w))\n",
    "  print(sess.run(v))"
   ]
  },
  {
   "cell_type": "markdown",
   "metadata": {},
   "source": [
    "# 3D Tensor 단면 자르기\n",
    " * tf.range를 이용하여 3 x 2 x 2 = 12 element list 생성\n",
    " * tf.reshape을 통해 3D Tensor 변환"
   ]
  },
  {
   "cell_type": "code",
   "execution_count": 55,
   "metadata": {},
   "outputs": [
    {
     "name": "stderr",
     "output_type": "stream",
     "text": [
      "C:\\Users\\gunooknam\\Anaconda3\\lib\\site-packages\\tensorflow\\python\\client\\session.py:1714: UserWarning: An interactive session is already active. This can cause out-of-memory errors in some cases. You must explicitly call `InteractiveSession.close()` to release resources held by the other session(s).\n",
      "  warnings.warn('An interactive session is already active. This can '\n"
     ]
    },
    {
     "data": {
      "text/plain": [
       "array([[[ 0,  1],\n",
       "        [ 2,  3]],\n",
       "\n",
       "       [[ 4,  5],\n",
       "        [ 6,  7]],\n",
       "\n",
       "       [[ 8,  9],\n",
       "        [10, 11]]])"
      ]
     },
     "execution_count": 55,
     "metadata": {},
     "output_type": "execute_result"
    }
   ],
   "source": [
    "x = tf.range(12)\n",
    "x = tf.reshape(x, [3,2,2])\n",
    "sess = tf.InteractiveSession(config=sess_config)\n",
    "x.eval()"
   ]
  },
  {
   "cell_type": "markdown",
   "metadata": {},
   "source": [
    "# 가장 바깥 쪽 [ 의 안쪽 부터 하나씩 시작"
   ]
  },
  {
   "cell_type": "code",
   "execution_count": 56,
   "metadata": {},
   "outputs": [
    {
     "data": {
      "text/plain": [
       "array([[0, 1],\n",
       "       [2, 3]])"
      ]
     },
     "execution_count": 56,
     "metadata": {},
     "output_type": "execute_result"
    }
   ],
   "source": [
    "x[0,:,:].eval()"
   ]
  },
  {
   "cell_type": "code",
   "execution_count": 57,
   "metadata": {},
   "outputs": [
    {
     "data": {
      "text/plain": [
       "array([[4, 5],\n",
       "       [6, 7]])"
      ]
     },
     "execution_count": 57,
     "metadata": {},
     "output_type": "execute_result"
    }
   ],
   "source": [
    "x[1,:,:].eval()"
   ]
  },
  {
   "cell_type": "code",
   "execution_count": 58,
   "metadata": {},
   "outputs": [
    {
     "data": {
      "text/plain": [
       "array([[ 8,  9],\n",
       "       [10, 11]])"
      ]
     },
     "execution_count": 58,
     "metadata": {},
     "output_type": "execute_result"
    }
   ],
   "source": [
    "x[2,:,:].eval()"
   ]
  },
  {
   "cell_type": "code",
   "execution_count": 65,
   "metadata": {},
   "outputs": [
    {
     "name": "stdout",
     "output_type": "stream",
     "text": [
      "[8 9] [[10 11]]\n"
     ]
    }
   ],
   "source": [
    "print( x[2,0,:].eval(), x[2,1:,0:].eval() )"
   ]
  }
 ],
 "metadata": {
  "kernelspec": {
   "display_name": "Python 3",
   "language": "python",
   "name": "python3"
  },
  "language_info": {
   "codemirror_mode": {
    "name": "ipython",
    "version": 3
   },
   "file_extension": ".py",
   "mimetype": "text/x-python",
   "name": "python",
   "nbconvert_exporter": "python",
   "pygments_lexer": "ipython3",
   "version": "3.6.5"
  }
 },
 "nbformat": 4,
 "nbformat_minor": 2
}
